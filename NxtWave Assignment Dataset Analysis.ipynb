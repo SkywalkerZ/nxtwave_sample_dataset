{
 "cells": [
  {
   "cell_type": "code",
   "execution_count": 2,
   "id": "6919bc5c",
   "metadata": {},
   "outputs": [],
   "source": [
    "import pandas as pd\n",
    "import numpy as np\n",
    "import matplotlib.pyplot as plt\n",
    "import seaborn as sns\n",
    "from pandasql import sqldf \n",
    "pysql = lambda q: sqldf(q, globals())"
   ]
  },
  {
   "cell_type": "markdown",
   "id": "9ffb4177",
   "metadata": {},
   "source": [
    "# Expected Outcome:\n",
    "1. Brainstorm and identify the right metrics and frame proper questions for analysis. Your analysis should help your\n",
    "    a. Business team to understand the lead's journey and stages with scope for improvement\n",
    "    b. Business heads to understand their team performance\n",
    "    c. Managers to understand their target areas\n",
    "2. In case you identify any outliers in the data set, make a note of them and exclude them from your analysis.\n",
    "3. Build the best suitable dashboard presenting your insights."
   ]
  },
  {
   "cell_type": "code",
   "execution_count": 3,
   "id": "2e847f0b",
   "metadata": {},
   "outputs": [],
   "source": [
    "#loading datasets into pandas\n",
    "leads_basic_details = pd.read_csv(\"leads_basic_details.csv\")\n",
    "leads_demo_watched_details = pd.read_csv(\"leads_demo_watched_details.csv\")\n",
    "leads_interaction_details = pd.read_csv(\"leads_interaction_details.csv\")\n",
    "leads_reasons_for_no_interest = pd.read_csv(\"leads_reasons_for_no_interest.csv\")\n",
    "sales_managers_assigned_leads_details = pd.read_csv(\"sales_managers_assigned_leads_details.csv\")"
   ]
  },
  {
   "cell_type": "code",
   "execution_count": 4,
   "id": "88b8757e",
   "metadata": {},
   "outputs": [
    {
     "data": {
      "text/html": [
       "<div>\n",
       "<style scoped>\n",
       "    .dataframe tbody tr th:only-of-type {\n",
       "        vertical-align: middle;\n",
       "    }\n",
       "\n",
       "    .dataframe tbody tr th {\n",
       "        vertical-align: top;\n",
       "    }\n",
       "\n",
       "    .dataframe thead th {\n",
       "        text-align: right;\n",
       "    }\n",
       "</style>\n",
       "<table border=\"1\" class=\"dataframe\">\n",
       "  <thead>\n",
       "    <tr style=\"text-align: right;\">\n",
       "      <th></th>\n",
       "      <th>lead_id</th>\n",
       "      <th>age</th>\n",
       "      <th>gender</th>\n",
       "      <th>current_city</th>\n",
       "      <th>current_education</th>\n",
       "      <th>parent_occupation</th>\n",
       "      <th>lead_gen_source</th>\n",
       "    </tr>\n",
       "  </thead>\n",
       "  <tbody>\n",
       "    <tr>\n",
       "      <th>0</th>\n",
       "      <td>USR1001</td>\n",
       "      <td>16</td>\n",
       "      <td>FEMALE</td>\n",
       "      <td>Hyderabad</td>\n",
       "      <td>Intermediate</td>\n",
       "      <td>Private Employee</td>\n",
       "      <td>social_media</td>\n",
       "    </tr>\n",
       "    <tr>\n",
       "      <th>1</th>\n",
       "      <td>USR1002</td>\n",
       "      <td>20</td>\n",
       "      <td>MALE</td>\n",
       "      <td>Bengaluru</td>\n",
       "      <td>B.Tech</td>\n",
       "      <td>Business</td>\n",
       "      <td>user_referrals</td>\n",
       "    </tr>\n",
       "    <tr>\n",
       "      <th>2</th>\n",
       "      <td>USR1003</td>\n",
       "      <td>20</td>\n",
       "      <td>FEMALE</td>\n",
       "      <td>Visakhapatnam</td>\n",
       "      <td>B.Tech</td>\n",
       "      <td>Lawyer</td>\n",
       "      <td>user_referrals</td>\n",
       "    </tr>\n",
       "    <tr>\n",
       "      <th>3</th>\n",
       "      <td>USR1004</td>\n",
       "      <td>16</td>\n",
       "      <td>MALE</td>\n",
       "      <td>Mumbai</td>\n",
       "      <td>Intermediate</td>\n",
       "      <td>IT Employee</td>\n",
       "      <td>user_referrals</td>\n",
       "    </tr>\n",
       "    <tr>\n",
       "      <th>4</th>\n",
       "      <td>USR1005</td>\n",
       "      <td>16</td>\n",
       "      <td>MALE</td>\n",
       "      <td>Chennai</td>\n",
       "      <td>Intermediate</td>\n",
       "      <td>Government Employee</td>\n",
       "      <td>user_referrals</td>\n",
       "    </tr>\n",
       "  </tbody>\n",
       "</table>\n",
       "</div>"
      ],
      "text/plain": [
       "   lead_id  age  gender   current_city current_education    parent_occupation  \\\n",
       "0  USR1001   16  FEMALE      Hyderabad      Intermediate     Private Employee   \n",
       "1  USR1002   20    MALE      Bengaluru            B.Tech             Business   \n",
       "2  USR1003   20  FEMALE  Visakhapatnam            B.Tech               Lawyer   \n",
       "3  USR1004   16    MALE         Mumbai      Intermediate          IT Employee   \n",
       "4  USR1005   16    MALE        Chennai      Intermediate  Government Employee   \n",
       "\n",
       "  lead_gen_source  \n",
       "0    social_media  \n",
       "1  user_referrals  \n",
       "2  user_referrals  \n",
       "3  user_referrals  \n",
       "4  user_referrals  "
      ]
     },
     "execution_count": 4,
     "metadata": {},
     "output_type": "execute_result"
    }
   ],
   "source": [
    "#printing each dataframe to better understand structure\n",
    "leads_basic_details.head() \n",
    "\n",
    "#Contains details of the leads."
   ]
  },
  {
   "cell_type": "code",
   "execution_count": 5,
   "id": "dd2f4689",
   "metadata": {},
   "outputs": [
    {
     "data": {
      "text/html": [
       "<div>\n",
       "<style scoped>\n",
       "    .dataframe tbody tr th:only-of-type {\n",
       "        vertical-align: middle;\n",
       "    }\n",
       "\n",
       "    .dataframe tbody tr th {\n",
       "        vertical-align: top;\n",
       "    }\n",
       "\n",
       "    .dataframe thead th {\n",
       "        text-align: right;\n",
       "    }\n",
       "</style>\n",
       "<table border=\"1\" class=\"dataframe\">\n",
       "  <thead>\n",
       "    <tr style=\"text-align: right;\">\n",
       "      <th></th>\n",
       "      <th>lead_id</th>\n",
       "      <th>demo_watched_date</th>\n",
       "      <th>language</th>\n",
       "      <th>watched_percentage</th>\n",
       "    </tr>\n",
       "  </thead>\n",
       "  <tbody>\n",
       "    <tr>\n",
       "      <th>0</th>\n",
       "      <td>USR1002</td>\n",
       "      <td>1/4/2022</td>\n",
       "      <td>Telugu</td>\n",
       "      <td>42</td>\n",
       "    </tr>\n",
       "    <tr>\n",
       "      <th>1</th>\n",
       "      <td>USR1003</td>\n",
       "      <td>1/7/2022</td>\n",
       "      <td>Telugu</td>\n",
       "      <td>81</td>\n",
       "    </tr>\n",
       "    <tr>\n",
       "      <th>2</th>\n",
       "      <td>USR1004</td>\n",
       "      <td>1/2/2022</td>\n",
       "      <td>Telugu</td>\n",
       "      <td>35</td>\n",
       "    </tr>\n",
       "    <tr>\n",
       "      <th>3</th>\n",
       "      <td>USR1005</td>\n",
       "      <td>1/3/2022</td>\n",
       "      <td>Hindi</td>\n",
       "      <td>38</td>\n",
       "    </tr>\n",
       "    <tr>\n",
       "      <th>4</th>\n",
       "      <td>USR1006</td>\n",
       "      <td>1/12/2022</td>\n",
       "      <td>Hindi</td>\n",
       "      <td>54</td>\n",
       "    </tr>\n",
       "  </tbody>\n",
       "</table>\n",
       "</div>"
      ],
      "text/plain": [
       "   lead_id demo_watched_date language  watched_percentage\n",
       "0  USR1002          1/4/2022   Telugu                  42\n",
       "1  USR1003          1/7/2022   Telugu                  81\n",
       "2  USR1004          1/2/2022   Telugu                  35\n",
       "3  USR1005          1/3/2022    Hindi                  38\n",
       "4  USR1006         1/12/2022    Hindi                  54"
      ]
     },
     "execution_count": 5,
     "metadata": {},
     "output_type": "execute_result"
    }
   ],
   "source": [
    "leads_demo_watched_details.head()\n",
    "\n",
    "#Contains the details of the senior and junior sales managers and their assigned leads.\n",
    "\n",
    "    #Each senior sales manager is assigned to 4 junior sales managers.\n",
    "    #Each junior sales manager is assigned few leads in each cycle (a cycle is approximately a week)."
   ]
  },
  {
   "cell_type": "code",
   "execution_count": 6,
   "id": "c372b1c3",
   "metadata": {},
   "outputs": [
    {
     "data": {
      "text/html": [
       "<div>\n",
       "<style scoped>\n",
       "    .dataframe tbody tr th:only-of-type {\n",
       "        vertical-align: middle;\n",
       "    }\n",
       "\n",
       "    .dataframe tbody tr th {\n",
       "        vertical-align: top;\n",
       "    }\n",
       "\n",
       "    .dataframe thead th {\n",
       "        text-align: right;\n",
       "    }\n",
       "</style>\n",
       "<table border=\"1\" class=\"dataframe\">\n",
       "  <thead>\n",
       "    <tr style=\"text-align: right;\">\n",
       "      <th></th>\n",
       "      <th>jnr_sm_id</th>\n",
       "      <th>lead_id</th>\n",
       "      <th>lead_stage</th>\n",
       "      <th>call_done_date</th>\n",
       "      <th>call_status</th>\n",
       "      <th>call_reason</th>\n",
       "    </tr>\n",
       "  </thead>\n",
       "  <tbody>\n",
       "    <tr>\n",
       "      <th>0</th>\n",
       "      <td>JNR1001MG</td>\n",
       "      <td>USR1001</td>\n",
       "      <td>lead</td>\n",
       "      <td>1/2/2022</td>\n",
       "      <td>successful</td>\n",
       "      <td>lead_introduction</td>\n",
       "    </tr>\n",
       "    <tr>\n",
       "      <th>1</th>\n",
       "      <td>JNR1001MG</td>\n",
       "      <td>USR1001</td>\n",
       "      <td>lead</td>\n",
       "      <td>1/2/2022</td>\n",
       "      <td>successful</td>\n",
       "      <td>demo_schedule</td>\n",
       "    </tr>\n",
       "    <tr>\n",
       "      <th>2</th>\n",
       "      <td>JNR1001MG</td>\n",
       "      <td>USR1002</td>\n",
       "      <td>lead</td>\n",
       "      <td>1/3/2022</td>\n",
       "      <td>successful</td>\n",
       "      <td>lead_introduction</td>\n",
       "    </tr>\n",
       "    <tr>\n",
       "      <th>3</th>\n",
       "      <td>JNR1001MG</td>\n",
       "      <td>USR1002</td>\n",
       "      <td>lead</td>\n",
       "      <td>1/4/2022</td>\n",
       "      <td>successful</td>\n",
       "      <td>demo_schedule</td>\n",
       "    </tr>\n",
       "    <tr>\n",
       "      <th>4</th>\n",
       "      <td>JNR1001MG</td>\n",
       "      <td>USR1002</td>\n",
       "      <td>awareness</td>\n",
       "      <td>1/5/2022</td>\n",
       "      <td>successful</td>\n",
       "      <td>post_demo_followup</td>\n",
       "    </tr>\n",
       "  </tbody>\n",
       "</table>\n",
       "</div>"
      ],
      "text/plain": [
       "   jnr_sm_id  lead_id lead_stage call_done_date call_status  \\\n",
       "0  JNR1001MG  USR1001       lead       1/2/2022  successful   \n",
       "1  JNR1001MG  USR1001       lead       1/2/2022  successful   \n",
       "2  JNR1001MG  USR1002       lead       1/3/2022  successful   \n",
       "3  JNR1001MG  USR1002       lead       1/4/2022  successful   \n",
       "4  JNR1001MG  USR1002  awareness       1/5/2022  successful   \n",
       "\n",
       "          call_reason  \n",
       "0   lead_introduction  \n",
       "1       demo_schedule  \n",
       "2   lead_introduction  \n",
       "3       demo_schedule  \n",
       "4  post_demo_followup  "
      ]
     },
     "execution_count": 6,
     "metadata": {},
     "output_type": "execute_result"
    }
   ],
   "source": [
    "leads_interaction_details.head()\n",
    "\n",
    "#Contains the details of call interactions of junior sales managers with the leads.\n",
    "\n",
    "    #A lead can drop out at any stage of the flow. If there is no call by the junior sales manager to the lead after a certain stage then the lead is considered as dropped at that stage."
   ]
  },
  {
   "cell_type": "code",
   "execution_count": 7,
   "id": "03a9b506",
   "metadata": {},
   "outputs": [
    {
     "data": {
      "text/html": [
       "<div>\n",
       "<style scoped>\n",
       "    .dataframe tbody tr th:only-of-type {\n",
       "        vertical-align: middle;\n",
       "    }\n",
       "\n",
       "    .dataframe tbody tr th {\n",
       "        vertical-align: top;\n",
       "    }\n",
       "\n",
       "    .dataframe thead th {\n",
       "        text-align: right;\n",
       "    }\n",
       "</style>\n",
       "<table border=\"1\" class=\"dataframe\">\n",
       "  <thead>\n",
       "    <tr style=\"text-align: right;\">\n",
       "      <th></th>\n",
       "      <th>lead_id</th>\n",
       "      <th>reasons_for_not_interested_in_demo</th>\n",
       "      <th>reasons_for_not_interested_to_consider</th>\n",
       "      <th>reasons_for_not_interested_to_convert</th>\n",
       "    </tr>\n",
       "  </thead>\n",
       "  <tbody>\n",
       "    <tr>\n",
       "      <th>0</th>\n",
       "      <td>USR1001</td>\n",
       "      <td>No time for student</td>\n",
       "      <td>NaN</td>\n",
       "      <td>NaN</td>\n",
       "    </tr>\n",
       "    <tr>\n",
       "      <th>1</th>\n",
       "      <td>USR1003</td>\n",
       "      <td>NaN</td>\n",
       "      <td>No time for student</td>\n",
       "      <td>NaN</td>\n",
       "    </tr>\n",
       "    <tr>\n",
       "      <th>2</th>\n",
       "      <td>USR1004</td>\n",
       "      <td>NaN</td>\n",
       "      <td>Wants offline classes</td>\n",
       "      <td>NaN</td>\n",
       "    </tr>\n",
       "    <tr>\n",
       "      <th>3</th>\n",
       "      <td>USR1005</td>\n",
       "      <td>NaN</td>\n",
       "      <td>Can't afford</td>\n",
       "      <td>NaN</td>\n",
       "    </tr>\n",
       "    <tr>\n",
       "      <th>4</th>\n",
       "      <td>USR1006</td>\n",
       "      <td>NaN</td>\n",
       "      <td>Student not interested in domain</td>\n",
       "      <td>NaN</td>\n",
       "    </tr>\n",
       "  </tbody>\n",
       "</table>\n",
       "</div>"
      ],
      "text/plain": [
       "   lead_id reasons_for_not_interested_in_demo  \\\n",
       "0  USR1001                No time for student   \n",
       "1  USR1003                                NaN   \n",
       "2  USR1004                                NaN   \n",
       "3  USR1005                                NaN   \n",
       "4  USR1006                                NaN   \n",
       "\n",
       "  reasons_for_not_interested_to_consider reasons_for_not_interested_to_convert  \n",
       "0                                    NaN                                   NaN  \n",
       "1                    No time for student                                   NaN  \n",
       "2                  Wants offline classes                                   NaN  \n",
       "3                           Can't afford                                   NaN  \n",
       "4       Student not interested in domain                                   NaN  "
      ]
     },
     "execution_count": 7,
     "metadata": {},
     "output_type": "execute_result"
    }
   ],
   "source": [
    "leads_reasons_for_no_interest.head()\n",
    "\n",
    "#Contains the details of the demo session watched by the leads."
   ]
  },
  {
   "cell_type": "code",
   "execution_count": 8,
   "id": "4467a20b",
   "metadata": {
    "scrolled": true
   },
   "outputs": [
    {
     "data": {
      "text/html": [
       "<div>\n",
       "<style scoped>\n",
       "    .dataframe tbody tr th:only-of-type {\n",
       "        vertical-align: middle;\n",
       "    }\n",
       "\n",
       "    .dataframe tbody tr th {\n",
       "        vertical-align: top;\n",
       "    }\n",
       "\n",
       "    .dataframe thead th {\n",
       "        text-align: right;\n",
       "    }\n",
       "</style>\n",
       "<table border=\"1\" class=\"dataframe\">\n",
       "  <thead>\n",
       "    <tr style=\"text-align: right;\">\n",
       "      <th></th>\n",
       "      <th>snr_sm_id</th>\n",
       "      <th>jnr_sm_id</th>\n",
       "      <th>assigned_date</th>\n",
       "      <th>cycle</th>\n",
       "      <th>lead_id</th>\n",
       "    </tr>\n",
       "  </thead>\n",
       "  <tbody>\n",
       "    <tr>\n",
       "      <th>0</th>\n",
       "      <td>SNR501MG</td>\n",
       "      <td>JNR1001MG</td>\n",
       "      <td>1/1/2022</td>\n",
       "      <td>1</td>\n",
       "      <td>USR1001</td>\n",
       "    </tr>\n",
       "    <tr>\n",
       "      <th>1</th>\n",
       "      <td>SNR501MG</td>\n",
       "      <td>JNR1001MG</td>\n",
       "      <td>1/1/2022</td>\n",
       "      <td>1</td>\n",
       "      <td>USR1002</td>\n",
       "    </tr>\n",
       "    <tr>\n",
       "      <th>2</th>\n",
       "      <td>SNR501MG</td>\n",
       "      <td>JNR1001MG</td>\n",
       "      <td>1/1/2022</td>\n",
       "      <td>1</td>\n",
       "      <td>USR1003</td>\n",
       "    </tr>\n",
       "    <tr>\n",
       "      <th>3</th>\n",
       "      <td>SNR501MG</td>\n",
       "      <td>JNR1001MG</td>\n",
       "      <td>1/1/2022</td>\n",
       "      <td>1</td>\n",
       "      <td>USR1004</td>\n",
       "    </tr>\n",
       "    <tr>\n",
       "      <th>4</th>\n",
       "      <td>SNR501MG</td>\n",
       "      <td>JNR1001MG</td>\n",
       "      <td>1/1/2022</td>\n",
       "      <td>1</td>\n",
       "      <td>USR1005</td>\n",
       "    </tr>\n",
       "  </tbody>\n",
       "</table>\n",
       "</div>"
      ],
      "text/plain": [
       "  snr_sm_id  jnr_sm_id assigned_date  cycle  lead_id\n",
       "0  SNR501MG  JNR1001MG      1/1/2022      1  USR1001\n",
       "1  SNR501MG  JNR1001MG      1/1/2022      1  USR1002\n",
       "2  SNR501MG  JNR1001MG      1/1/2022      1  USR1003\n",
       "3  SNR501MG  JNR1001MG      1/1/2022      1  USR1004\n",
       "4  SNR501MG  JNR1001MG      1/1/2022      1  USR1005"
      ]
     },
     "execution_count": 8,
     "metadata": {},
     "output_type": "execute_result"
    }
   ],
   "source": [
    "sales_managers_assigned_leads_details.head()\n",
    "\n",
    "#Contains the details of the reasons given by the leads for their lack of interest."
   ]
  },
  {
   "cell_type": "markdown",
   "id": "5e03d05e",
   "metadata": {},
   "source": [
    "# Cleaning all 5 datasets"
   ]
  },
  {
   "cell_type": "code",
   "execution_count": 9,
   "id": "2ed4d2ad",
   "metadata": {},
   "outputs": [
    {
     "data": {
      "text/plain": [
       "360"
      ]
     },
     "execution_count": 9,
     "metadata": {},
     "output_type": "execute_result"
    }
   ],
   "source": [
    "#Cleaning leads_basic_details data\n",
    "len(leads_basic_details)"
   ]
  },
  {
   "cell_type": "code",
   "execution_count": 10,
   "id": "92b8f1e1",
   "metadata": {},
   "outputs": [
    {
     "data": {
      "text/plain": [
       "array([ 16,  20,  21,  22,  25,  18,  24, 211, 116], dtype=int64)"
      ]
     },
     "execution_count": 10,
     "metadata": {},
     "output_type": "execute_result"
    }
   ],
   "source": [
    "leads_basic_details['age'].unique()"
   ]
  },
  {
   "cell_type": "markdown",
   "id": "27c3c280",
   "metadata": {},
   "source": [
    "Found Outliers in 'Age' column of leads_basic_details data.\n",
    "Need to remove these, but it could very well also be a typo. 211 could actually be 21, 116 could actually be 16. \n",
    "Let us investigate the records for these outliers. "
   ]
  },
  {
   "cell_type": "code",
   "execution_count": 11,
   "id": "9067f507",
   "metadata": {
    "scrolled": true
   },
   "outputs": [
    {
     "data": {
      "text/html": [
       "<div>\n",
       "<style scoped>\n",
       "    .dataframe tbody tr th:only-of-type {\n",
       "        vertical-align: middle;\n",
       "    }\n",
       "\n",
       "    .dataframe tbody tr th {\n",
       "        vertical-align: top;\n",
       "    }\n",
       "\n",
       "    .dataframe thead th {\n",
       "        text-align: right;\n",
       "    }\n",
       "</style>\n",
       "<table border=\"1\" class=\"dataframe\">\n",
       "  <thead>\n",
       "    <tr style=\"text-align: right;\">\n",
       "      <th></th>\n",
       "      <th>lead_id</th>\n",
       "      <th>age</th>\n",
       "      <th>gender</th>\n",
       "      <th>current_city</th>\n",
       "      <th>current_education</th>\n",
       "      <th>parent_occupation</th>\n",
       "      <th>lead_gen_source</th>\n",
       "    </tr>\n",
       "  </thead>\n",
       "  <tbody>\n",
       "    <tr>\n",
       "      <th>17</th>\n",
       "      <td>USR1018</td>\n",
       "      <td>211</td>\n",
       "      <td>MALE</td>\n",
       "      <td>Hyderabad</td>\n",
       "      <td>Degree</td>\n",
       "      <td>IT Employee</td>\n",
       "      <td>social_media</td>\n",
       "    </tr>\n",
       "    <tr>\n",
       "      <th>300</th>\n",
       "      <td>USR1301</td>\n",
       "      <td>116</td>\n",
       "      <td>FEMALE</td>\n",
       "      <td>Hyderabad</td>\n",
       "      <td>Intermediate</td>\n",
       "      <td>Private Employee</td>\n",
       "      <td>social_media</td>\n",
       "    </tr>\n",
       "  </tbody>\n",
       "</table>\n",
       "</div>"
      ],
      "text/plain": [
       "     lead_id  age  gender current_city current_education parent_occupation  \\\n",
       "17   USR1018  211    MALE    Hyderabad            Degree       IT Employee   \n",
       "300  USR1301  116  FEMALE    Hyderabad      Intermediate  Private Employee   \n",
       "\n",
       "    lead_gen_source  \n",
       "17     social_media  \n",
       "300    social_media  "
      ]
     },
     "execution_count": 11,
     "metadata": {},
     "output_type": "execute_result"
    }
   ],
   "source": [
    "leads_basic_details.query(\"age > 30\")"
   ]
  },
  {
   "cell_type": "markdown",
   "id": "aa141520",
   "metadata": {},
   "source": [
    "Ok, we should be removing these records, as there is no indication it is a typo (the lead_id is not mentioned again in this table nor do we have their DOB to cross check)"
   ]
  },
  {
   "cell_type": "code",
   "execution_count": 12,
   "id": "3498a63b",
   "metadata": {},
   "outputs": [],
   "source": [
    "leads_basic_details = leads_basic_details.query(\"age < 30\")"
   ]
  },
  {
   "cell_type": "markdown",
   "id": "ee32a3a5",
   "metadata": {},
   "source": [
    "Now the count of rows should be 360-2=358 after removing the outliers"
   ]
  },
  {
   "cell_type": "code",
   "execution_count": 13,
   "id": "737fd3b4",
   "metadata": {},
   "outputs": [
    {
     "data": {
      "text/plain": [
       "358"
      ]
     },
     "execution_count": 13,
     "metadata": {},
     "output_type": "execute_result"
    }
   ],
   "source": [
    "len(leads_basic_details)"
   ]
  },
  {
   "cell_type": "markdown",
   "id": "209b3e2d",
   "metadata": {},
   "source": [
    "Let us continue to make sure the other columns in this data do not have any typos/outliers"
   ]
  },
  {
   "cell_type": "code",
   "execution_count": 14,
   "id": "e38d3b9e",
   "metadata": {},
   "outputs": [
    {
     "data": {
      "text/plain": [
       "358"
      ]
     },
     "execution_count": 14,
     "metadata": {},
     "output_type": "execute_result"
    }
   ],
   "source": [
    "len(leads_basic_details['lead_id'].unique())"
   ]
  },
  {
   "cell_type": "code",
   "execution_count": 15,
   "id": "dab1cbae",
   "metadata": {},
   "outputs": [
    {
     "data": {
      "text/plain": [
       "array(['FEMALE', 'MALE'], dtype=object)"
      ]
     },
     "execution_count": 15,
     "metadata": {},
     "output_type": "execute_result"
    }
   ],
   "source": [
    "leads_basic_details['gender'].unique()"
   ]
  },
  {
   "cell_type": "code",
   "execution_count": 16,
   "id": "b1bbfb4b",
   "metadata": {},
   "outputs": [
    {
     "data": {
      "text/plain": [
       "array(['Hyderabad', 'Bengaluru', 'Visakhapatnam', 'Mumbai', 'Chennai',\n",
       "       'Kochi'], dtype=object)"
      ]
     },
     "execution_count": 16,
     "metadata": {},
     "output_type": "execute_result"
    }
   ],
   "source": [
    "leads_basic_details['current_city'].unique()"
   ]
  },
  {
   "cell_type": "code",
   "execution_count": 17,
   "id": "4dc5cee7",
   "metadata": {},
   "outputs": [
    {
     "data": {
      "text/plain": [
       "array(['Intermediate', 'B.Tech', 'Degree', 'Looking for Job',\n",
       "       '10th Completed', 'Intermediate Completed'], dtype=object)"
      ]
     },
     "execution_count": 17,
     "metadata": {},
     "output_type": "execute_result"
    }
   ],
   "source": [
    "leads_basic_details['current_education'].unique()"
   ]
  },
  {
   "cell_type": "code",
   "execution_count": 18,
   "id": "85fa4077",
   "metadata": {},
   "outputs": [
    {
     "data": {
      "text/plain": [
       "array(['Private Employee', 'Business', 'Lawyer', 'IT Employee',\n",
       "       'Government Employee', 'Doctor', 'Professor/Faculty'], dtype=object)"
      ]
     },
     "execution_count": 18,
     "metadata": {},
     "output_type": "execute_result"
    }
   ],
   "source": [
    "leads_basic_details['parent_occupation'].unique()"
   ]
  },
  {
   "cell_type": "code",
   "execution_count": 19,
   "id": "66711570",
   "metadata": {},
   "outputs": [
    {
     "data": {
      "text/plain": [
       "array(['social_media', 'user_referrals', 'website', 'SEO',\n",
       "       'email_marketing'], dtype=object)"
      ]
     },
     "execution_count": 19,
     "metadata": {},
     "output_type": "execute_result"
    }
   ],
   "source": [
    "leads_basic_details['lead_gen_source'].unique()"
   ]
  },
  {
   "cell_type": "code",
   "execution_count": 20,
   "id": "eef26300",
   "metadata": {},
   "outputs": [
    {
     "name": "stdout",
     "output_type": "stream",
     "text": [
      "<class 'pandas.core.frame.DataFrame'>\n",
      "RangeIndex: 194 entries, 0 to 193\n",
      "Data columns (total 4 columns):\n",
      " #   Column              Non-Null Count  Dtype \n",
      "---  ------              --------------  ----- \n",
      " 0   lead_id             194 non-null    object\n",
      " 1   demo_watched_date   194 non-null    object\n",
      " 2   language            194 non-null    object\n",
      " 3   watched_percentage  194 non-null    int64 \n",
      "dtypes: int64(1), object(3)\n",
      "memory usage: 6.2+ KB\n"
     ]
    }
   ],
   "source": [
    "# Cleaning leads_demo_watched_details dataset\n",
    "leads_demo_watched_details.info()"
   ]
  },
  {
   "cell_type": "code",
   "execution_count": 21,
   "id": "b2e39267",
   "metadata": {},
   "outputs": [
    {
     "data": {
      "text/plain": [
       "194"
      ]
     },
     "execution_count": 21,
     "metadata": {},
     "output_type": "execute_result"
    }
   ],
   "source": [
    "len(leads_demo_watched_details['lead_id'].unique())"
   ]
  },
  {
   "cell_type": "code",
   "execution_count": 22,
   "id": "86eed7c7",
   "metadata": {},
   "outputs": [
    {
     "data": {
      "text/html": [
       "<div>\n",
       "<style scoped>\n",
       "    .dataframe tbody tr th:only-of-type {\n",
       "        vertical-align: middle;\n",
       "    }\n",
       "\n",
       "    .dataframe tbody tr th {\n",
       "        vertical-align: top;\n",
       "    }\n",
       "\n",
       "    .dataframe thead th {\n",
       "        text-align: right;\n",
       "    }\n",
       "</style>\n",
       "<table border=\"1\" class=\"dataframe\">\n",
       "  <thead>\n",
       "    <tr style=\"text-align: right;\">\n",
       "      <th></th>\n",
       "      <th>lead_id</th>\n",
       "      <th>demo_watched_date</th>\n",
       "      <th>language</th>\n",
       "      <th>watched_percentage</th>\n",
       "    </tr>\n",
       "  </thead>\n",
       "  <tbody>\n",
       "    <tr>\n",
       "      <th>16</th>\n",
       "      <td>USR1018</td>\n",
       "      <td>2/20/2022</td>\n",
       "      <td>Hindi</td>\n",
       "      <td>40</td>\n",
       "    </tr>\n",
       "  </tbody>\n",
       "</table>\n",
       "</div>"
      ],
      "text/plain": [
       "    lead_id demo_watched_date language  watched_percentage\n",
       "16  USR1018         2/20/2022    Hindi                  40"
      ]
     },
     "execution_count": 22,
     "metadata": {},
     "output_type": "execute_result"
    }
   ],
   "source": [
    "leads_demo_watched_details.query(\"lead_id == 'USR1018' or lead_id == 'USR1301'\")"
   ]
  },
  {
   "cell_type": "markdown",
   "id": "f2327a17",
   "metadata": {},
   "source": [
    "Have to remove these records as the associated lead_id were removed from the first dataset"
   ]
  },
  {
   "cell_type": "code",
   "execution_count": 23,
   "id": "8fe26afd",
   "metadata": {},
   "outputs": [],
   "source": [
    "leads_demo_watched_details = leads_demo_watched_details.drop([16])"
   ]
  },
  {
   "cell_type": "code",
   "execution_count": 24,
   "id": "547ff192",
   "metadata": {},
   "outputs": [
    {
     "data": {
      "text/html": [
       "<div>\n",
       "<style scoped>\n",
       "    .dataframe tbody tr th:only-of-type {\n",
       "        vertical-align: middle;\n",
       "    }\n",
       "\n",
       "    .dataframe tbody tr th {\n",
       "        vertical-align: top;\n",
       "    }\n",
       "\n",
       "    .dataframe thead th {\n",
       "        text-align: right;\n",
       "    }\n",
       "</style>\n",
       "<table border=\"1\" class=\"dataframe\">\n",
       "  <thead>\n",
       "    <tr style=\"text-align: right;\">\n",
       "      <th></th>\n",
       "      <th>lead_id</th>\n",
       "      <th>demo_watched_date</th>\n",
       "      <th>language</th>\n",
       "      <th>watched_percentage</th>\n",
       "    </tr>\n",
       "  </thead>\n",
       "  <tbody>\n",
       "  </tbody>\n",
       "</table>\n",
       "</div>"
      ],
      "text/plain": [
       "Empty DataFrame\n",
       "Columns: [lead_id, demo_watched_date, language, watched_percentage]\n",
       "Index: []"
      ]
     },
     "execution_count": 24,
     "metadata": {},
     "output_type": "execute_result"
    }
   ],
   "source": [
    "leads_demo_watched_details.query(\"lead_id == 'USR1018' or lead_id == 'USR1301'\")"
   ]
  },
  {
   "cell_type": "code",
   "execution_count": 25,
   "id": "0fc1526c",
   "metadata": {},
   "outputs": [
    {
     "data": {
      "text/plain": [
       "array(['1/4/2022', '1/7/2022', '1/2/2022', '1/3/2022', '1/12/2022',\n",
       "       '1/11/2022', '1/8/2022', '1/10/2022', '1/17/2022', '1/16/2022',\n",
       "       '1/18/2022', '2/21/2022', '2/19/2022', '1/1/2022', '1/6/2022',\n",
       "       '1/9/2022', '1/21/2022', '1/19/2022', '2/20/2022', '2/22/2022',\n",
       "       '2/25/2022', '2/23/2022', '1/5/2022', '1/20/2022', '1/26/2022',\n",
       "       '1/13/2022', '1/22/2022', '2/26/2022', '1/14/2022', '2/28/2022',\n",
       "       '1/25/2022', '2/27/2022'], dtype=object)"
      ]
     },
     "execution_count": 25,
     "metadata": {},
     "output_type": "execute_result"
    }
   ],
   "source": [
    "leads_demo_watched_details['demo_watched_date'].unique()"
   ]
  },
  {
   "cell_type": "markdown",
   "id": "ba882d27",
   "metadata": {},
   "source": [
    "Note: Even though the dataset said it contains 1 month's data, we have data from 2 months in this dataset"
   ]
  },
  {
   "cell_type": "code",
   "execution_count": 26,
   "id": "f868d604",
   "metadata": {},
   "outputs": [
    {
     "data": {
      "text/plain": [
       "array(['Telugu', 'Hindi', 'English'], dtype=object)"
      ]
     },
     "execution_count": 26,
     "metadata": {},
     "output_type": "execute_result"
    }
   ],
   "source": [
    "leads_demo_watched_details['language'].unique()"
   ]
  },
  {
   "cell_type": "code",
   "execution_count": 27,
   "id": "25f31446",
   "metadata": {},
   "outputs": [
    {
     "data": {
      "text/plain": [
       "array([ 42,  81,  35,  38,  54,  52,  41,  50,  48,  44,  46,  51,  47,\n",
       "        36, 100,   5,  53,   8,  10,  11,  14,  17,  20,  23,  55,  73,\n",
       "        26,  29,  32,  56,  59,  62,  60,  65,  70,  74,  75,  68,  40,\n",
       "        85,  71,  86,  87,  88,  89,   2,  90,  91,  92,  77,  80,  63,\n",
       "        83,  25,   3,   4,  30,  45,  64, 510,  37,  66,  67,  49,  57,\n",
       "        69,  61,  95,  15,  12,  13,  72,  19, 233,  27,  21,  16,  76,\n",
       "        18,  79,  78,  22,  24,  28,  82,  84], dtype=int64)"
      ]
     },
     "execution_count": 27,
     "metadata": {},
     "output_type": "execute_result"
    }
   ],
   "source": [
    "leads_demo_watched_details['watched_percentage'].unique()"
   ]
  },
  {
   "cell_type": "markdown",
   "id": "5bd02ec0",
   "metadata": {},
   "source": [
    "Outlier found in 'watched_percentage' column of leads_demo_watched_details dataset. Watched percentage should not be over 100%. Identified value over 100% (510,233)"
   ]
  },
  {
   "cell_type": "code",
   "execution_count": 28,
   "id": "345ecaf0",
   "metadata": {
    "scrolled": true
   },
   "outputs": [
    {
     "data": {
      "text/html": [
       "<div>\n",
       "<style scoped>\n",
       "    .dataframe tbody tr th:only-of-type {\n",
       "        vertical-align: middle;\n",
       "    }\n",
       "\n",
       "    .dataframe tbody tr th {\n",
       "        vertical-align: top;\n",
       "    }\n",
       "\n",
       "    .dataframe thead th {\n",
       "        text-align: right;\n",
       "    }\n",
       "</style>\n",
       "<table border=\"1\" class=\"dataframe\">\n",
       "  <thead>\n",
       "    <tr style=\"text-align: right;\">\n",
       "      <th></th>\n",
       "      <th>lead_id</th>\n",
       "      <th>demo_watched_date</th>\n",
       "      <th>language</th>\n",
       "      <th>watched_percentage</th>\n",
       "    </tr>\n",
       "  </thead>\n",
       "  <tbody>\n",
       "    <tr>\n",
       "      <th>94</th>\n",
       "      <td>USR1138</td>\n",
       "      <td>2/20/2022</td>\n",
       "      <td>English</td>\n",
       "      <td>510</td>\n",
       "    </tr>\n",
       "    <tr>\n",
       "      <th>133</th>\n",
       "      <td>USR1213</td>\n",
       "      <td>1/20/2022</td>\n",
       "      <td>Telugu</td>\n",
       "      <td>233</td>\n",
       "    </tr>\n",
       "  </tbody>\n",
       "</table>\n",
       "</div>"
      ],
      "text/plain": [
       "     lead_id demo_watched_date language  watched_percentage\n",
       "94   USR1138         2/20/2022  English                 510\n",
       "133  USR1213         1/20/2022   Telugu                 233"
      ]
     },
     "execution_count": 28,
     "metadata": {},
     "output_type": "execute_result"
    }
   ],
   "source": [
    "leads_demo_watched_details.query(\"watched_percentage > 100\")"
   ]
  },
  {
   "cell_type": "code",
   "execution_count": 29,
   "id": "6944c7e9",
   "metadata": {},
   "outputs": [],
   "source": [
    "leads_demo_watched_details = leads_demo_watched_details.query(\"watched_percentage < 101\")"
   ]
  },
  {
   "cell_type": "markdown",
   "id": "6153f6e7",
   "metadata": {},
   "source": [
    "### The count of rows in leads_demo_watched_details dataset should now be 193-2 = 191"
   ]
  },
  {
   "cell_type": "code",
   "execution_count": 30,
   "id": "18017bb9",
   "metadata": {},
   "outputs": [
    {
     "data": {
      "text/plain": [
       "191"
      ]
     },
     "execution_count": 30,
     "metadata": {},
     "output_type": "execute_result"
    }
   ],
   "source": [
    "len(leads_demo_watched_details)"
   ]
  },
  {
   "cell_type": "code",
   "execution_count": 31,
   "id": "3b01ba8b",
   "metadata": {},
   "outputs": [
    {
     "name": "stdout",
     "output_type": "stream",
     "text": [
      "<class 'pandas.core.frame.DataFrame'>\n",
      "RangeIndex: 2192 entries, 0 to 2191\n",
      "Data columns (total 6 columns):\n",
      " #   Column          Non-Null Count  Dtype \n",
      "---  ------          --------------  ----- \n",
      " 0   jnr_sm_id       2192 non-null   object\n",
      " 1   lead_id         2192 non-null   object\n",
      " 2   lead_stage      2192 non-null   object\n",
      " 3   call_done_date  2192 non-null   object\n",
      " 4   call_status     2192 non-null   object\n",
      " 5   call_reason     2192 non-null   object\n",
      "dtypes: object(6)\n",
      "memory usage: 102.9+ KB\n"
     ]
    }
   ],
   "source": [
    "#Cleaning leads_interaction_details dataset\n",
    "leads_interaction_details.info()"
   ]
  },
  {
   "cell_type": "code",
   "execution_count": 32,
   "id": "df12b53a",
   "metadata": {},
   "outputs": [
    {
     "data": {
      "text/plain": [
       "array(['JNR1001MG', 'JNR1002MG', 'JNR1003MG', 'JNR1004MG', 'JNR1005MG',\n",
       "       'JNR1006MG', 'JNR1007MG', 'JNR1008MG', 'JNR1009MG', 'JNR1010MG',\n",
       "       'JNR1011MG', 'JNR1012MG', 'JNR1013MG', 'JNR1014MG', 'JNR1015MG',\n",
       "       'JNR1016MG'], dtype=object)"
      ]
     },
     "execution_count": 32,
     "metadata": {},
     "output_type": "execute_result"
    }
   ],
   "source": [
    "leads_interaction_details['jnr_sm_id'].unique()"
   ]
  },
  {
   "cell_type": "code",
   "execution_count": 33,
   "id": "34c05a84",
   "metadata": {},
   "outputs": [
    {
     "data": {
      "text/plain": [
       "358"
      ]
     },
     "execution_count": 33,
     "metadata": {},
     "output_type": "execute_result"
    }
   ],
   "source": [
    "len(leads_interaction_details['lead_id'].unique())"
   ]
  },
  {
   "cell_type": "code",
   "execution_count": 34,
   "id": "ba3e23f8",
   "metadata": {},
   "outputs": [
    {
     "data": {
      "text/plain": [
       "2192"
      ]
     },
     "execution_count": 34,
     "metadata": {},
     "output_type": "execute_result"
    }
   ],
   "source": [
    "len(leads_interaction_details['lead_id'])"
   ]
  },
  {
   "cell_type": "code",
   "execution_count": 35,
   "id": "73b5dddd",
   "metadata": {},
   "outputs": [
    {
     "data": {
      "text/html": [
       "<div>\n",
       "<style scoped>\n",
       "    .dataframe tbody tr th:only-of-type {\n",
       "        vertical-align: middle;\n",
       "    }\n",
       "\n",
       "    .dataframe tbody tr th {\n",
       "        vertical-align: top;\n",
       "    }\n",
       "\n",
       "    .dataframe thead th {\n",
       "        text-align: right;\n",
       "    }\n",
       "</style>\n",
       "<table border=\"1\" class=\"dataframe\">\n",
       "  <thead>\n",
       "    <tr style=\"text-align: right;\">\n",
       "      <th></th>\n",
       "      <th>jnr_sm_id</th>\n",
       "      <th>lead_id</th>\n",
       "      <th>lead_stage</th>\n",
       "      <th>call_done_date</th>\n",
       "      <th>call_status</th>\n",
       "      <th>call_reason</th>\n",
       "    </tr>\n",
       "  </thead>\n",
       "  <tbody>\n",
       "    <tr>\n",
       "      <th>93</th>\n",
       "      <td>JNR1001MG</td>\n",
       "      <td>USR1018</td>\n",
       "      <td>lead</td>\n",
       "      <td>2/19/2022</td>\n",
       "      <td>unsuccessful</td>\n",
       "      <td>lead_introduction</td>\n",
       "    </tr>\n",
       "    <tr>\n",
       "      <th>94</th>\n",
       "      <td>JNR1001MG</td>\n",
       "      <td>USR1018</td>\n",
       "      <td>lead</td>\n",
       "      <td>2/19/2022</td>\n",
       "      <td>successful</td>\n",
       "      <td>lead_introduction</td>\n",
       "    </tr>\n",
       "    <tr>\n",
       "      <th>95</th>\n",
       "      <td>JNR1001MG</td>\n",
       "      <td>USR1018</td>\n",
       "      <td>lead</td>\n",
       "      <td>2/19/2022</td>\n",
       "      <td>successful</td>\n",
       "      <td>demo_schedule</td>\n",
       "    </tr>\n",
       "    <tr>\n",
       "      <th>96</th>\n",
       "      <td>JNR1001MG</td>\n",
       "      <td>USR1018</td>\n",
       "      <td>lead</td>\n",
       "      <td>2/22/2022</td>\n",
       "      <td>successful</td>\n",
       "      <td>demo_not_attended</td>\n",
       "    </tr>\n",
       "    <tr>\n",
       "      <th>97</th>\n",
       "      <td>JNR1001MG</td>\n",
       "      <td>USR1018</td>\n",
       "      <td>awareness</td>\n",
       "      <td>2/22/2022</td>\n",
       "      <td>successful</td>\n",
       "      <td>post_demo_followup</td>\n",
       "    </tr>\n",
       "    <tr>\n",
       "      <th>1966</th>\n",
       "      <td>JNR1016MG</td>\n",
       "      <td>USR1301</td>\n",
       "      <td>lead</td>\n",
       "      <td>1/1/2022</td>\n",
       "      <td>successful</td>\n",
       "      <td>lead_introduction</td>\n",
       "    </tr>\n",
       "    <tr>\n",
       "      <th>1967</th>\n",
       "      <td>JNR1016MG</td>\n",
       "      <td>USR1301</td>\n",
       "      <td>lead</td>\n",
       "      <td>1/1/2022</td>\n",
       "      <td>successful</td>\n",
       "      <td>demo_schedule</td>\n",
       "    </tr>\n",
       "    <tr>\n",
       "      <th>1968</th>\n",
       "      <td>JNR1016MG</td>\n",
       "      <td>USR1301</td>\n",
       "      <td>lead</td>\n",
       "      <td>1/1/2022</td>\n",
       "      <td>successful</td>\n",
       "      <td>demo_not_attended</td>\n",
       "    </tr>\n",
       "    <tr>\n",
       "      <th>1969</th>\n",
       "      <td>JNR1016MG</td>\n",
       "      <td>USR1301</td>\n",
       "      <td>lead</td>\n",
       "      <td>1/1/2022</td>\n",
       "      <td>successful</td>\n",
       "      <td>demo_not_attended</td>\n",
       "    </tr>\n",
       "    <tr>\n",
       "      <th>1970</th>\n",
       "      <td>JNR1016MG</td>\n",
       "      <td>USR1301</td>\n",
       "      <td>lead</td>\n",
       "      <td>1/1/2022</td>\n",
       "      <td>unsuccessful</td>\n",
       "      <td>demo_not_attended</td>\n",
       "    </tr>\n",
       "    <tr>\n",
       "      <th>1971</th>\n",
       "      <td>JNR1016MG</td>\n",
       "      <td>USR1301</td>\n",
       "      <td>lead</td>\n",
       "      <td>1/1/2022</td>\n",
       "      <td>successful</td>\n",
       "      <td>demo_not_attended</td>\n",
       "    </tr>\n",
       "  </tbody>\n",
       "</table>\n",
       "</div>"
      ],
      "text/plain": [
       "      jnr_sm_id  lead_id lead_stage call_done_date   call_status  \\\n",
       "93    JNR1001MG  USR1018       lead      2/19/2022  unsuccessful   \n",
       "94    JNR1001MG  USR1018       lead      2/19/2022    successful   \n",
       "95    JNR1001MG  USR1018       lead      2/19/2022    successful   \n",
       "96    JNR1001MG  USR1018       lead      2/22/2022    successful   \n",
       "97    JNR1001MG  USR1018  awareness      2/22/2022    successful   \n",
       "1966  JNR1016MG  USR1301       lead       1/1/2022    successful   \n",
       "1967  JNR1016MG  USR1301       lead       1/1/2022    successful   \n",
       "1968  JNR1016MG  USR1301       lead       1/1/2022    successful   \n",
       "1969  JNR1016MG  USR1301       lead       1/1/2022    successful   \n",
       "1970  JNR1016MG  USR1301       lead       1/1/2022  unsuccessful   \n",
       "1971  JNR1016MG  USR1301       lead       1/1/2022    successful   \n",
       "\n",
       "             call_reason  \n",
       "93     lead_introduction  \n",
       "94     lead_introduction  \n",
       "95         demo_schedule  \n",
       "96     demo_not_attended  \n",
       "97    post_demo_followup  \n",
       "1966   lead_introduction  \n",
       "1967       demo_schedule  \n",
       "1968   demo_not_attended  \n",
       "1969   demo_not_attended  \n",
       "1970   demo_not_attended  \n",
       "1971   demo_not_attended  "
      ]
     },
     "execution_count": 35,
     "metadata": {},
     "output_type": "execute_result"
    }
   ],
   "source": [
    "leads_interaction_details.query(\"lead_id == 'USR1018' or lead_id == 'USR1301'\")"
   ]
  },
  {
   "cell_type": "markdown",
   "id": "9248e0b7",
   "metadata": {},
   "source": [
    "Have to remove these records as the associated lead_id were removed from the first dataset"
   ]
  },
  {
   "cell_type": "code",
   "execution_count": 36,
   "id": "93098dab",
   "metadata": {},
   "outputs": [],
   "source": [
    "leads_interaction_details = leads_interaction_details.drop([93,94,95,96,97,1966,1967,1968,1969,1970,1971])"
   ]
  },
  {
   "cell_type": "code",
   "execution_count": 37,
   "id": "e960d8b3",
   "metadata": {},
   "outputs": [
    {
     "data": {
      "text/plain": [
       "2181"
      ]
     },
     "execution_count": 37,
     "metadata": {},
     "output_type": "execute_result"
    }
   ],
   "source": [
    "len(leads_interaction_details)"
   ]
  },
  {
   "cell_type": "code",
   "execution_count": 38,
   "id": "a8f90cfa",
   "metadata": {},
   "outputs": [
    {
     "data": {
      "text/html": [
       "<div>\n",
       "<style scoped>\n",
       "    .dataframe tbody tr th:only-of-type {\n",
       "        vertical-align: middle;\n",
       "    }\n",
       "\n",
       "    .dataframe tbody tr th {\n",
       "        vertical-align: top;\n",
       "    }\n",
       "\n",
       "    .dataframe thead th {\n",
       "        text-align: right;\n",
       "    }\n",
       "</style>\n",
       "<table border=\"1\" class=\"dataframe\">\n",
       "  <thead>\n",
       "    <tr style=\"text-align: right;\">\n",
       "      <th></th>\n",
       "      <th>jnr_sm_id</th>\n",
       "      <th>lead_id</th>\n",
       "      <th>lead_stage</th>\n",
       "      <th>call_done_date</th>\n",
       "      <th>call_status</th>\n",
       "      <th>call_reason</th>\n",
       "    </tr>\n",
       "  </thead>\n",
       "  <tbody>\n",
       "  </tbody>\n",
       "</table>\n",
       "</div>"
      ],
      "text/plain": [
       "Empty DataFrame\n",
       "Columns: [jnr_sm_id, lead_id, lead_stage, call_done_date, call_status, call_reason]\n",
       "Index: []"
      ]
     },
     "execution_count": 38,
     "metadata": {},
     "output_type": "execute_result"
    }
   ],
   "source": [
    "leads_interaction_details.query(\"lead_id == 'USR1018' or lead_id == 'USR1301'\")"
   ]
  },
  {
   "cell_type": "code",
   "execution_count": 39,
   "id": "5fd30f84",
   "metadata": {},
   "outputs": [
    {
     "data": {
      "text/plain": [
       "array(['successful', 'unsuccessful'], dtype=object)"
      ]
     },
     "execution_count": 39,
     "metadata": {},
     "output_type": "execute_result"
    }
   ],
   "source": [
    "leads_interaction_details['call_status'].unique()"
   ]
  },
  {
   "cell_type": "code",
   "execution_count": 40,
   "id": "84a263a3",
   "metadata": {},
   "outputs": [
    {
     "data": {
      "text/plain": [
       "array(['lead_introduction', 'demo_schedule', 'post_demo_followup',\n",
       "       'followup_for_consideration', 'interested_for_conversion',\n",
       "       'followup_for_conversion', 'successful_conversion',\n",
       "       'demo_not_attended'], dtype=object)"
      ]
     },
     "execution_count": 40,
     "metadata": {},
     "output_type": "execute_result"
    }
   ],
   "source": [
    "leads_interaction_details['call_reason'].unique()"
   ]
  },
  {
   "cell_type": "code",
   "execution_count": 91,
   "id": "c6f51030",
   "metadata": {
    "scrolled": true
   },
   "outputs": [
    {
     "data": {
      "text/html": [
       "<div>\n",
       "<style scoped>\n",
       "    .dataframe tbody tr th:only-of-type {\n",
       "        vertical-align: middle;\n",
       "    }\n",
       "\n",
       "    .dataframe tbody tr th {\n",
       "        vertical-align: top;\n",
       "    }\n",
       "\n",
       "    .dataframe thead th {\n",
       "        text-align: right;\n",
       "    }\n",
       "</style>\n",
       "<table border=\"1\" class=\"dataframe\">\n",
       "  <thead>\n",
       "    <tr style=\"text-align: right;\">\n",
       "      <th></th>\n",
       "      <th>jnr_sm_id</th>\n",
       "      <th>lead_id</th>\n",
       "      <th>lead_stage</th>\n",
       "      <th>call_done_date</th>\n",
       "      <th>call_status</th>\n",
       "      <th>call_reason</th>\n",
       "    </tr>\n",
       "  </thead>\n",
       "  <tbody>\n",
       "    <tr>\n",
       "      <th>0</th>\n",
       "      <td>JNR1001MG</td>\n",
       "      <td>USR1001</td>\n",
       "      <td>lead</td>\n",
       "      <td>1/2/2022</td>\n",
       "      <td>successful</td>\n",
       "      <td>lead_introduction</td>\n",
       "    </tr>\n",
       "    <tr>\n",
       "      <th>1</th>\n",
       "      <td>JNR1001MG</td>\n",
       "      <td>USR1001</td>\n",
       "      <td>lead</td>\n",
       "      <td>1/2/2022</td>\n",
       "      <td>successful</td>\n",
       "      <td>demo_schedule</td>\n",
       "    </tr>\n",
       "    <tr>\n",
       "      <th>2</th>\n",
       "      <td>JNR1001MG</td>\n",
       "      <td>USR1002</td>\n",
       "      <td>lead</td>\n",
       "      <td>1/3/2022</td>\n",
       "      <td>successful</td>\n",
       "      <td>lead_introduction</td>\n",
       "    </tr>\n",
       "    <tr>\n",
       "      <th>3</th>\n",
       "      <td>JNR1001MG</td>\n",
       "      <td>USR1002</td>\n",
       "      <td>lead</td>\n",
       "      <td>1/4/2022</td>\n",
       "      <td>successful</td>\n",
       "      <td>demo_schedule</td>\n",
       "    </tr>\n",
       "    <tr>\n",
       "      <th>10</th>\n",
       "      <td>JNR1001MG</td>\n",
       "      <td>USR1003</td>\n",
       "      <td>lead</td>\n",
       "      <td>1/4/2022</td>\n",
       "      <td>unsuccessful</td>\n",
       "      <td>lead_introduction</td>\n",
       "    </tr>\n",
       "    <tr>\n",
       "      <th>...</th>\n",
       "      <td>...</td>\n",
       "      <td>...</td>\n",
       "      <td>...</td>\n",
       "      <td>...</td>\n",
       "      <td>...</td>\n",
       "      <td>...</td>\n",
       "    </tr>\n",
       "    <tr>\n",
       "      <th>2187</th>\n",
       "      <td>JNR1001MG</td>\n",
       "      <td>USR1356</td>\n",
       "      <td>lead</td>\n",
       "      <td>2/21/2022</td>\n",
       "      <td>unsuccessful</td>\n",
       "      <td>lead_introduction</td>\n",
       "    </tr>\n",
       "    <tr>\n",
       "      <th>2188</th>\n",
       "      <td>JNR1001MG</td>\n",
       "      <td>USR1357</td>\n",
       "      <td>lead</td>\n",
       "      <td>1/8/2022</td>\n",
       "      <td>unsuccessful</td>\n",
       "      <td>lead_introduction</td>\n",
       "    </tr>\n",
       "    <tr>\n",
       "      <th>2189</th>\n",
       "      <td>JNR1001MG</td>\n",
       "      <td>USR1358</td>\n",
       "      <td>lead</td>\n",
       "      <td>1/12/2022</td>\n",
       "      <td>unsuccessful</td>\n",
       "      <td>lead_introduction</td>\n",
       "    </tr>\n",
       "    <tr>\n",
       "      <th>2190</th>\n",
       "      <td>JNR1001MG</td>\n",
       "      <td>USR1359</td>\n",
       "      <td>lead</td>\n",
       "      <td>1/22/2022</td>\n",
       "      <td>unsuccessful</td>\n",
       "      <td>lead_introduction</td>\n",
       "    </tr>\n",
       "    <tr>\n",
       "      <th>2191</th>\n",
       "      <td>JNR1001MG</td>\n",
       "      <td>USR1360</td>\n",
       "      <td>lead</td>\n",
       "      <td>2/21/2022</td>\n",
       "      <td>unsuccessful</td>\n",
       "      <td>lead_introduction</td>\n",
       "    </tr>\n",
       "  </tbody>\n",
       "</table>\n",
       "<p>1537 rows × 6 columns</p>\n",
       "</div>"
      ],
      "text/plain": [
       "      jnr_sm_id  lead_id lead_stage call_done_date   call_status  \\\n",
       "0     JNR1001MG  USR1001       lead       1/2/2022    successful   \n",
       "1     JNR1001MG  USR1001       lead       1/2/2022    successful   \n",
       "2     JNR1001MG  USR1002       lead       1/3/2022    successful   \n",
       "3     JNR1001MG  USR1002       lead       1/4/2022    successful   \n",
       "10    JNR1001MG  USR1003       lead       1/4/2022  unsuccessful   \n",
       "...         ...      ...        ...            ...           ...   \n",
       "2187  JNR1001MG  USR1356       lead      2/21/2022  unsuccessful   \n",
       "2188  JNR1001MG  USR1357       lead       1/8/2022  unsuccessful   \n",
       "2189  JNR1001MG  USR1358       lead      1/12/2022  unsuccessful   \n",
       "2190  JNR1001MG  USR1359       lead      1/22/2022  unsuccessful   \n",
       "2191  JNR1001MG  USR1360       lead      2/21/2022  unsuccessful   \n",
       "\n",
       "            call_reason  \n",
       "0     lead_introduction  \n",
       "1         demo_schedule  \n",
       "2     lead_introduction  \n",
       "3         demo_schedule  \n",
       "10    lead_introduction  \n",
       "...                 ...  \n",
       "2187  lead_introduction  \n",
       "2188  lead_introduction  \n",
       "2189  lead_introduction  \n",
       "2190  lead_introduction  \n",
       "2191  lead_introduction  \n",
       "\n",
       "[1537 rows x 6 columns]"
      ]
     },
     "execution_count": 91,
     "metadata": {},
     "output_type": "execute_result"
    }
   ],
   "source": []
  },
  {
   "cell_type": "code",
   "execution_count": 41,
   "id": "35d3d1c0",
   "metadata": {},
   "outputs": [
    {
     "name": "stdout",
     "output_type": "stream",
     "text": [
      "<class 'pandas.core.frame.DataFrame'>\n",
      "RangeIndex: 294 entries, 0 to 293\n",
      "Data columns (total 4 columns):\n",
      " #   Column                                  Non-Null Count  Dtype \n",
      "---  ------                                  --------------  ----- \n",
      " 0   lead_id                                 294 non-null    object\n",
      " 1   reasons_for_not_interested_in_demo      164 non-null    object\n",
      " 2   reasons_for_not_interested_to_consider  79 non-null     object\n",
      " 3   reasons_for_not_interested_to_convert   51 non-null     object\n",
      "dtypes: object(4)\n",
      "memory usage: 9.3+ KB\n"
     ]
    }
   ],
   "source": [
    "#Cleaning leads_reasons_for_no_interest dataset\n",
    "leads_reasons_for_no_interest.info()"
   ]
  },
  {
   "cell_type": "code",
   "execution_count": 42,
   "id": "3218cadc",
   "metadata": {},
   "outputs": [
    {
     "data": {
      "text/html": [
       "<div>\n",
       "<style scoped>\n",
       "    .dataframe tbody tr th:only-of-type {\n",
       "        vertical-align: middle;\n",
       "    }\n",
       "\n",
       "    .dataframe tbody tr th {\n",
       "        vertical-align: top;\n",
       "    }\n",
       "\n",
       "    .dataframe thead th {\n",
       "        text-align: right;\n",
       "    }\n",
       "</style>\n",
       "<table border=\"1\" class=\"dataframe\">\n",
       "  <thead>\n",
       "    <tr style=\"text-align: right;\">\n",
       "      <th></th>\n",
       "      <th>lead_id</th>\n",
       "      <th>reasons_for_not_interested_in_demo</th>\n",
       "      <th>reasons_for_not_interested_to_consider</th>\n",
       "      <th>reasons_for_not_interested_to_convert</th>\n",
       "    </tr>\n",
       "  </thead>\n",
       "  <tbody>\n",
       "    <tr>\n",
       "      <th>11</th>\n",
       "      <td>USR1018</td>\n",
       "      <td>NaN</td>\n",
       "      <td>Can't afford</td>\n",
       "      <td>NaN</td>\n",
       "    </tr>\n",
       "    <tr>\n",
       "      <th>242</th>\n",
       "      <td>USR1301</td>\n",
       "      <td>No time for student</td>\n",
       "      <td>NaN</td>\n",
       "      <td>NaN</td>\n",
       "    </tr>\n",
       "  </tbody>\n",
       "</table>\n",
       "</div>"
      ],
      "text/plain": [
       "     lead_id reasons_for_not_interested_in_demo  \\\n",
       "11   USR1018                                NaN   \n",
       "242  USR1301                No time for student   \n",
       "\n",
       "    reasons_for_not_interested_to_consider  \\\n",
       "11                            Can't afford   \n",
       "242                                    NaN   \n",
       "\n",
       "    reasons_for_not_interested_to_convert  \n",
       "11                                    NaN  \n",
       "242                                   NaN  "
      ]
     },
     "execution_count": 42,
     "metadata": {},
     "output_type": "execute_result"
    }
   ],
   "source": [
    "leads_reasons_for_no_interest.query(\"lead_id == 'USR1018' or lead_id == 'USR1301'\")"
   ]
  },
  {
   "cell_type": "code",
   "execution_count": 43,
   "id": "c18613e4",
   "metadata": {},
   "outputs": [],
   "source": [
    "leads_reasons_for_no_interest = leads_reasons_for_no_interest.drop([11,242])"
   ]
  },
  {
   "cell_type": "code",
   "execution_count": 44,
   "id": "5d49efa3",
   "metadata": {},
   "outputs": [
    {
     "data": {
      "text/html": [
       "<div>\n",
       "<style scoped>\n",
       "    .dataframe tbody tr th:only-of-type {\n",
       "        vertical-align: middle;\n",
       "    }\n",
       "\n",
       "    .dataframe tbody tr th {\n",
       "        vertical-align: top;\n",
       "    }\n",
       "\n",
       "    .dataframe thead th {\n",
       "        text-align: right;\n",
       "    }\n",
       "</style>\n",
       "<table border=\"1\" class=\"dataframe\">\n",
       "  <thead>\n",
       "    <tr style=\"text-align: right;\">\n",
       "      <th></th>\n",
       "      <th>lead_id</th>\n",
       "      <th>reasons_for_not_interested_in_demo</th>\n",
       "      <th>reasons_for_not_interested_to_consider</th>\n",
       "      <th>reasons_for_not_interested_to_convert</th>\n",
       "    </tr>\n",
       "  </thead>\n",
       "  <tbody>\n",
       "  </tbody>\n",
       "</table>\n",
       "</div>"
      ],
      "text/plain": [
       "Empty DataFrame\n",
       "Columns: [lead_id, reasons_for_not_interested_in_demo, reasons_for_not_interested_to_consider, reasons_for_not_interested_to_convert]\n",
       "Index: []"
      ]
     },
     "execution_count": 44,
     "metadata": {},
     "output_type": "execute_result"
    }
   ],
   "source": [
    "leads_reasons_for_no_interest.query(\"lead_id == 'USR1018' or lead_id == 'USR1301'\")"
   ]
  },
  {
   "cell_type": "code",
   "execution_count": 45,
   "id": "3677604e",
   "metadata": {},
   "outputs": [
    {
     "name": "stdout",
     "output_type": "stream",
     "text": [
      "<class 'pandas.core.frame.DataFrame'>\n",
      "RangeIndex: 360 entries, 0 to 359\n",
      "Data columns (total 5 columns):\n",
      " #   Column         Non-Null Count  Dtype \n",
      "---  ------         --------------  ----- \n",
      " 0   snr_sm_id      360 non-null    object\n",
      " 1   jnr_sm_id      360 non-null    object\n",
      " 2   assigned_date  360 non-null    object\n",
      " 3   cycle          360 non-null    int64 \n",
      " 4   lead_id        360 non-null    object\n",
      "dtypes: int64(1), object(4)\n",
      "memory usage: 14.2+ KB\n"
     ]
    }
   ],
   "source": [
    "#Cleaning sales_managers_assigned_leads_details dataset\n",
    "\n",
    "sales_managers_assigned_leads_details.info()"
   ]
  },
  {
   "cell_type": "code",
   "execution_count": 46,
   "id": "8d1cf0e9",
   "metadata": {},
   "outputs": [
    {
     "data": {
      "text/html": [
       "<div>\n",
       "<style scoped>\n",
       "    .dataframe tbody tr th:only-of-type {\n",
       "        vertical-align: middle;\n",
       "    }\n",
       "\n",
       "    .dataframe tbody tr th {\n",
       "        vertical-align: top;\n",
       "    }\n",
       "\n",
       "    .dataframe thead th {\n",
       "        text-align: right;\n",
       "    }\n",
       "</style>\n",
       "<table border=\"1\" class=\"dataframe\">\n",
       "  <thead>\n",
       "    <tr style=\"text-align: right;\">\n",
       "      <th></th>\n",
       "      <th>snr_sm_id</th>\n",
       "      <th>jnr_sm_id</th>\n",
       "      <th>assigned_date</th>\n",
       "      <th>cycle</th>\n",
       "      <th>lead_id</th>\n",
       "    </tr>\n",
       "  </thead>\n",
       "  <tbody>\n",
       "    <tr>\n",
       "      <th>17</th>\n",
       "      <td>SNR501MG</td>\n",
       "      <td>JNR1001MG</td>\n",
       "      <td>2/19/2022</td>\n",
       "      <td>4</td>\n",
       "      <td>USR1018</td>\n",
       "    </tr>\n",
       "    <tr>\n",
       "      <th>300</th>\n",
       "      <td>SNR504MG</td>\n",
       "      <td>JNR1016MG</td>\n",
       "      <td>1/1/2022</td>\n",
       "      <td>1</td>\n",
       "      <td>USR1301</td>\n",
       "    </tr>\n",
       "  </tbody>\n",
       "</table>\n",
       "</div>"
      ],
      "text/plain": [
       "    snr_sm_id  jnr_sm_id assigned_date  cycle  lead_id\n",
       "17   SNR501MG  JNR1001MG     2/19/2022      4  USR1018\n",
       "300  SNR504MG  JNR1016MG      1/1/2022      1  USR1301"
      ]
     },
     "execution_count": 46,
     "metadata": {},
     "output_type": "execute_result"
    }
   ],
   "source": [
    "sales_managers_assigned_leads_details.query(\"lead_id == 'USR1018' or lead_id == 'USR1301'\")"
   ]
  },
  {
   "cell_type": "code",
   "execution_count": 47,
   "id": "edf13b9c",
   "metadata": {},
   "outputs": [],
   "source": [
    "sales_managers_assigned_leads_details = sales_managers_assigned_leads_details.drop([17,300])"
   ]
  },
  {
   "cell_type": "code",
   "execution_count": 48,
   "id": "ec10aad4",
   "metadata": {},
   "outputs": [
    {
     "data": {
      "text/html": [
       "<div>\n",
       "<style scoped>\n",
       "    .dataframe tbody tr th:only-of-type {\n",
       "        vertical-align: middle;\n",
       "    }\n",
       "\n",
       "    .dataframe tbody tr th {\n",
       "        vertical-align: top;\n",
       "    }\n",
       "\n",
       "    .dataframe thead th {\n",
       "        text-align: right;\n",
       "    }\n",
       "</style>\n",
       "<table border=\"1\" class=\"dataframe\">\n",
       "  <thead>\n",
       "    <tr style=\"text-align: right;\">\n",
       "      <th></th>\n",
       "      <th>snr_sm_id</th>\n",
       "      <th>jnr_sm_id</th>\n",
       "      <th>assigned_date</th>\n",
       "      <th>cycle</th>\n",
       "      <th>lead_id</th>\n",
       "    </tr>\n",
       "  </thead>\n",
       "  <tbody>\n",
       "  </tbody>\n",
       "</table>\n",
       "</div>"
      ],
      "text/plain": [
       "Empty DataFrame\n",
       "Columns: [snr_sm_id, jnr_sm_id, assigned_date, cycle, lead_id]\n",
       "Index: []"
      ]
     },
     "execution_count": 48,
     "metadata": {},
     "output_type": "execute_result"
    }
   ],
   "source": [
    "sales_managers_assigned_leads_details.query(\"lead_id == 'USR1018' or lead_id == 'USR1301'\")"
   ]
  },
  {
   "cell_type": "code",
   "execution_count": 49,
   "id": "7266046f",
   "metadata": {},
   "outputs": [
    {
     "data": {
      "text/plain": [
       "358"
      ]
     },
     "execution_count": 49,
     "metadata": {},
     "output_type": "execute_result"
    }
   ],
   "source": [
    "#saving cleaned data into new csvs\n",
    "#doing one final sanity check\n",
    "len(sales_managers_assigned_leads_details)"
   ]
  },
  {
   "cell_type": "code",
   "execution_count": 50,
   "id": "39dea2af",
   "metadata": {},
   "outputs": [
    {
     "data": {
      "text/plain": [
       "292"
      ]
     },
     "execution_count": 50,
     "metadata": {},
     "output_type": "execute_result"
    }
   ],
   "source": [
    "len(leads_reasons_for_no_interest)"
   ]
  },
  {
   "cell_type": "code",
   "execution_count": 51,
   "id": "23ceb003",
   "metadata": {},
   "outputs": [
    {
     "data": {
      "text/plain": [
       "2181"
      ]
     },
     "execution_count": 51,
     "metadata": {},
     "output_type": "execute_result"
    }
   ],
   "source": [
    "len(leads_interaction_details)"
   ]
  },
  {
   "cell_type": "code",
   "execution_count": 52,
   "id": "d8af4357",
   "metadata": {},
   "outputs": [
    {
     "data": {
      "text/plain": [
       "191"
      ]
     },
     "execution_count": 52,
     "metadata": {},
     "output_type": "execute_result"
    }
   ],
   "source": [
    "len(leads_demo_watched_details)"
   ]
  },
  {
   "cell_type": "code",
   "execution_count": 53,
   "id": "7f4099ca",
   "metadata": {},
   "outputs": [
    {
     "data": {
      "text/plain": [
       "358"
      ]
     },
     "execution_count": 53,
     "metadata": {},
     "output_type": "execute_result"
    }
   ],
   "source": [
    "len(leads_basic_details)"
   ]
  },
  {
   "cell_type": "code",
   "execution_count": 174,
   "id": "4f5d3447",
   "metadata": {},
   "outputs": [],
   "source": [
    "sales_managers_assigned_leads_details.to_csv(\"sales_managers_assigned_leads_details_cleaned.csv\", index= False)\n",
    "leads_reasons_for_no_interest.to_csv(\"leads_reasons_for_no_interest_cleaned.csv\", index =False)\n",
    "leads_interaction_details.to_csv(\"leads_interaction_details_cleaned.csv\", index = False)\n",
    "leads_demo_watched_details.to_csv(\"leads_demo_watched_details_cleaned.csv\" , index = False)\n",
    "leads_basic_details.to_csv(\"leads_basic_details_cleaned.csv\", index = False)"
   ]
  },
  {
   "cell_type": "markdown",
   "id": "0d6bce3c",
   "metadata": {},
   "source": [
    "# Analysing all 5 cleaned datasets"
   ]
  },
  {
   "cell_type": "markdown",
   "id": "39c7c200",
   "metadata": {},
   "source": [
    "# Analysing leads_basic_details dataset"
   ]
  },
  {
   "cell_type": "code",
   "execution_count": 117,
   "id": "1a6661c6",
   "metadata": {},
   "outputs": [],
   "source": [
    "#loading datasets into pandas\n",
    "leads_basic_details_cleaned = pd.read_csv(\"leads_basic_details_cleaned.csv\",encoding='utf-8')\n",
    "leads_demo_watched_details_cleaned = pd.read_csv(\"leads_demo_watched_details_cleaned.csv\")\n",
    "leads_interaction_details_cleaned = pd.read_csv(\"leads_interaction_details_cleaned.csv\")\n",
    "leads_reasons_for_no_interest_cleaned = pd.read_csv(\"leads_reasons_for_no_interest_cleaned.csv\")\n",
    "sales_managers_assigned_leads_details_cleaned = pd.read_csv(\"sales_managers_assigned_leads_details_cleaned.csv\")"
   ]
  },
  {
   "cell_type": "code",
   "execution_count": 55,
   "id": "3b74c168",
   "metadata": {},
   "outputs": [
    {
     "data": {
      "text/html": [
       "<div>\n",
       "<style scoped>\n",
       "    .dataframe tbody tr th:only-of-type {\n",
       "        vertical-align: middle;\n",
       "    }\n",
       "\n",
       "    .dataframe tbody tr th {\n",
       "        vertical-align: top;\n",
       "    }\n",
       "\n",
       "    .dataframe thead th {\n",
       "        text-align: right;\n",
       "    }\n",
       "</style>\n",
       "<table border=\"1\" class=\"dataframe\">\n",
       "  <thead>\n",
       "    <tr style=\"text-align: right;\">\n",
       "      <th></th>\n",
       "      <th>lead_id</th>\n",
       "      <th>age</th>\n",
       "      <th>gender</th>\n",
       "      <th>current_city</th>\n",
       "      <th>current_education</th>\n",
       "      <th>parent_occupation</th>\n",
       "      <th>lead_gen_source</th>\n",
       "    </tr>\n",
       "  </thead>\n",
       "  <tbody>\n",
       "    <tr>\n",
       "      <th>0</th>\n",
       "      <td>USR1001</td>\n",
       "      <td>16</td>\n",
       "      <td>FEMALE</td>\n",
       "      <td>Hyderabad</td>\n",
       "      <td>Intermediate</td>\n",
       "      <td>Private Employee</td>\n",
       "      <td>social_media</td>\n",
       "    </tr>\n",
       "    <tr>\n",
       "      <th>1</th>\n",
       "      <td>USR1002</td>\n",
       "      <td>20</td>\n",
       "      <td>MALE</td>\n",
       "      <td>Bengaluru</td>\n",
       "      <td>B.Tech</td>\n",
       "      <td>Business</td>\n",
       "      <td>user_referrals</td>\n",
       "    </tr>\n",
       "    <tr>\n",
       "      <th>2</th>\n",
       "      <td>USR1003</td>\n",
       "      <td>20</td>\n",
       "      <td>FEMALE</td>\n",
       "      <td>Visakhapatnam</td>\n",
       "      <td>B.Tech</td>\n",
       "      <td>Lawyer</td>\n",
       "      <td>user_referrals</td>\n",
       "    </tr>\n",
       "    <tr>\n",
       "      <th>3</th>\n",
       "      <td>USR1004</td>\n",
       "      <td>16</td>\n",
       "      <td>MALE</td>\n",
       "      <td>Mumbai</td>\n",
       "      <td>Intermediate</td>\n",
       "      <td>IT Employee</td>\n",
       "      <td>user_referrals</td>\n",
       "    </tr>\n",
       "    <tr>\n",
       "      <th>4</th>\n",
       "      <td>USR1005</td>\n",
       "      <td>16</td>\n",
       "      <td>MALE</td>\n",
       "      <td>Chennai</td>\n",
       "      <td>Intermediate</td>\n",
       "      <td>Government Employee</td>\n",
       "      <td>user_referrals</td>\n",
       "    </tr>\n",
       "  </tbody>\n",
       "</table>\n",
       "</div>"
      ],
      "text/plain": [
       "   lead_id  age  gender   current_city current_education    parent_occupation  \\\n",
       "0  USR1001   16  FEMALE      Hyderabad      Intermediate     Private Employee   \n",
       "1  USR1002   20    MALE      Bengaluru            B.Tech             Business   \n",
       "2  USR1003   20  FEMALE  Visakhapatnam            B.Tech               Lawyer   \n",
       "3  USR1004   16    MALE         Mumbai      Intermediate          IT Employee   \n",
       "4  USR1005   16    MALE        Chennai      Intermediate  Government Employee   \n",
       "\n",
       "  lead_gen_source  \n",
       "0    social_media  \n",
       "1  user_referrals  \n",
       "2  user_referrals  \n",
       "3  user_referrals  \n",
       "4  user_referrals  "
      ]
     },
     "execution_count": 55,
     "metadata": {},
     "output_type": "execute_result"
    }
   ],
   "source": [
    "leads_basic_details_cleaned.head()"
   ]
  },
  {
   "cell_type": "code",
   "execution_count": 56,
   "id": "33800585",
   "metadata": {},
   "outputs": [
    {
     "data": {
      "image/png": "[encoded data removed]",
      "text/plain": [
       "<Figure size 432x288 with 1 Axes>"
      ]
     },
     "metadata": {},
     "output_type": "display_data"
    }
   ],
   "source": [
    "labels = leads_basic_details_cleaned['lead_gen_source'].unique()\n",
    "x = [len(leads_basic_details_cleaned.query(\"lead_gen_source == 'social_media'\")), len(leads_basic_details_cleaned.query(\"lead_gen_source == 'SEO'\")),len(leads_basic_details_cleaned.query(\"lead_gen_source == 'email_marketing'\")),len(leads_basic_details_cleaned.query(\"lead_gen_source == 'user_referrals'\")),len(leads_basic_details_cleaned.query(\"lead_gen_source == 'website'\")) ]\n",
    "explode = (0.1, 0, 0, 0,0)\n",
    "\n",
    "fig, ax = plt.subplots()\n",
    "ax.pie(x, labels = labels, autopct='%1.1f%%' ,explode=explode, shadow=True)\n",
    "ax.set_title('Lead Source')\n",
    "ax.axis('equal')\n",
    "plt.show()"
   ]
  },
  {
   "cell_type": "markdown",
   "id": "8a7d5653",
   "metadata": {},
   "source": [
    "Social Media generates most lead (23.7%), followed by user_referrals (20.9%), website (20.4%), SE0 (18.4%) and lastly email marketing (16.5%). This pie chart shows a healthy user base as the second highest lead source is by actual users referring others. "
   ]
  },
  {
   "cell_type": "code",
   "execution_count": 57,
   "id": "f549f608",
   "metadata": {},
   "outputs": [
    {
     "data": {
      "image/png": "[encoded data removed]",
      "text/plain": [
       "<Figure size 432x288 with 1 Axes>"
      ]
     },
     "metadata": {},
     "output_type": "display_data"
    }
   ],
   "source": [
    "labels = leads_basic_details_cleaned['parent_occupation'].unique()\n",
    "x = [len(leads_basic_details_cleaned.query(\"parent_occupation == 'Private Employee'\")), len(leads_basic_details_cleaned.query(\"parent_occupation == 'Business'\")),len(leads_basic_details_cleaned.query(\"parent_occupation == 'Lawyer'\")),len(leads_basic_details_cleaned.query(\"parent_occupation == 'IT Employee'\")),len(leads_basic_details_cleaned.query(\"parent_occupation == 'Government Employee'\")),len(leads_basic_details_cleaned.query(\"parent_occupation == 'Doctor'\")),len(leads_basic_details_cleaned.query(\"parent_occupation == 'Professor/Faculty'\")) ]\n",
    "explode = (0, 0, 0, 0, 0.1, 0, 0)\n",
    "\n",
    "fig, ax1 = plt.subplots()\n",
    "ax1.pie(x, labels = labels, autopct='%1.1f%%' ,explode=explode, shadow=True)\n",
    "ax1.set_title('Parent Occupation')\n",
    "ax1.axis('equal')\n",
    "plt.show()\n"
   ]
  },
  {
   "cell_type": "markdown",
   "id": "da040f64",
   "metadata": {},
   "source": [
    "Highest parent occupation is government employee (35.8%), followed by business (22.3%), IT employee (19.6%), lawyer (12.3 %) and lastly private employee, professor and doctor (3.9%, 3.1%, 3.1%) in that order."
   ]
  },
  {
   "cell_type": "code",
   "execution_count": 58,
   "id": "0c1a598c",
   "metadata": {},
   "outputs": [
    {
     "data": {
      "text/plain": [
       "Text(0, 0.5, 'Lead Count')"
      ]
     },
     "execution_count": 58,
     "metadata": {},
     "output_type": "execute_result"
    },
    {
     "data": {
      "image/png": "[encoded data removed]",
      "text/plain": [
       "<Figure size 432x288 with 1 Axes>"
      ]
     },
     "metadata": {
      "needs_background": "light"
     },
     "output_type": "display_data"
    }
   ],
   "source": [
    "leads_in_cities = leads_basic_details_cleaned.groupby('current_city').size()\n",
    "\n",
    "leads_in_cities.plot(kind=\"bar\" )\n",
    "plt.xticks(rotation=45, horizontalalignment=\"center\")\n",
    "plt.title(\"Number of Leads in Different Cities\")\n",
    "plt.xlabel(\"Current City\")\n",
    "plt.ylabel(\"Lead Count\")"
   ]
  },
  {
   "cell_type": "code",
   "execution_count": 59,
   "id": "6ed21e1b",
   "metadata": {},
   "outputs": [
    {
     "data": {
      "text/plain": [
       "Text(0, 0.5, 'Lead Count')"
      ]
     },
     "execution_count": 59,
     "metadata": {},
     "output_type": "execute_result"
    },
    {
     "data": {
      "image/png": "[encoded data removed]",
      "text/plain": [
       "<Figure size 432x288 with 1 Axes>"
      ]
     },
     "metadata": {
      "needs_background": "light"
     },
     "output_type": "display_data"
    }
   ],
   "source": [
    "leads_language = leads_basic_details_cleaned.groupby('gender').size()\n",
    "\n",
    "leads_language.plot(kind=\"bar\", color = 'red')\n",
    "plt.xticks(rotation=45, horizontalalignment=\"center\")\n",
    "plt.title(\"Leads Gender\")\n",
    "plt.xlabel(\"Gender\")\n",
    "plt.ylabel(\"Lead Count\")"
   ]
  },
  {
   "cell_type": "code",
   "execution_count": 60,
   "id": "0c045044",
   "metadata": {},
   "outputs": [
    {
     "data": {
      "text/plain": [
       "Text(0, 0.5, 'Lead Count')"
      ]
     },
     "execution_count": 60,
     "metadata": {},
     "output_type": "execute_result"
    },
    {
     "data": {
      "image/png": "[encoded data removed]",
      "text/plain": [
       "<Figure size 432x288 with 1 Axes>"
      ]
     },
     "metadata": {
      "needs_background": "light"
     },
     "output_type": "display_data"
    }
   ],
   "source": [
    "leads_age = leads_basic_details_cleaned.groupby('age').size()\n",
    "\n",
    "leads_age.plot(kind=\"bar\", color = 'cyan')\n",
    "plt.xticks(rotation=45, horizontalalignment=\"center\")\n",
    "plt.title(\"Leads Age Group\")\n",
    "plt.xlabel(\"Age\")\n",
    "plt.ylabel(\"Lead Count\")"
   ]
  },
  {
   "cell_type": "code",
   "execution_count": 61,
   "id": "7f387f8d",
   "metadata": {},
   "outputs": [
    {
     "data": {
      "text/plain": [
       "Text(0, 0.5, 'Lead Count')"
      ]
     },
     "execution_count": 61,
     "metadata": {},
     "output_type": "execute_result"
    },
    {
     "data": {
      "image/png": "[encoded data removed]",
      "text/plain": [
       "<Figure size 432x288 with 1 Axes>"
      ]
     },
     "metadata": {
      "needs_background": "light"
     },
     "output_type": "display_data"
    }
   ],
   "source": [
    "leads_education = leads_basic_details_cleaned.groupby('current_education').size()\n",
    "\n",
    "leads_education.plot(kind=\"bar\", color = 'green')\n",
    "plt.xticks(rotation=45, horizontalalignment=\"center\")\n",
    "plt.title(\"Leads Education\")\n",
    "plt.xlabel(\"Education Level\")\n",
    "plt.ylabel(\"Lead Count\")"
   ]
  },
  {
   "cell_type": "markdown",
   "id": "6844b6e3",
   "metadata": {},
   "source": [
    "# Findings of leads_basic_details dataset\n",
    "\n",
    "Hyderabad , Visakhapatnam and Kochi have higher number of students interested.\n",
    "\n",
    "Leads from 'BTech' and 'Looking for job' are more likly to be interested.\n",
    "\n",
    "Age group of leads ranges from 16 to 25.\n",
    "\n",
    "Female leads are more likely to be interested compared to male leads.\n",
    "\n",
    "Leads from Social media are more compared to other Means."
   ]
  },
  {
   "cell_type": "markdown",
   "id": "31caac3e",
   "metadata": {},
   "source": [
    "# Analysing leads_demo_watched_details dataset"
   ]
  },
  {
   "cell_type": "code",
   "execution_count": 62,
   "id": "d5395874",
   "metadata": {},
   "outputs": [
    {
     "data": {
      "text/html": [
       "<div>\n",
       "<style scoped>\n",
       "    .dataframe tbody tr th:only-of-type {\n",
       "        vertical-align: middle;\n",
       "    }\n",
       "\n",
       "    .dataframe tbody tr th {\n",
       "        vertical-align: top;\n",
       "    }\n",
       "\n",
       "    .dataframe thead th {\n",
       "        text-align: right;\n",
       "    }\n",
       "</style>\n",
       "<table border=\"1\" class=\"dataframe\">\n",
       "  <thead>\n",
       "    <tr style=\"text-align: right;\">\n",
       "      <th></th>\n",
       "      <th>lead_id</th>\n",
       "      <th>demo_watched_date</th>\n",
       "      <th>language</th>\n",
       "      <th>watched_percentage</th>\n",
       "    </tr>\n",
       "  </thead>\n",
       "  <tbody>\n",
       "    <tr>\n",
       "      <th>0</th>\n",
       "      <td>USR1002</td>\n",
       "      <td>1/4/2022</td>\n",
       "      <td>Telugu</td>\n",
       "      <td>42</td>\n",
       "    </tr>\n",
       "    <tr>\n",
       "      <th>1</th>\n",
       "      <td>USR1003</td>\n",
       "      <td>1/7/2022</td>\n",
       "      <td>Telugu</td>\n",
       "      <td>81</td>\n",
       "    </tr>\n",
       "    <tr>\n",
       "      <th>2</th>\n",
       "      <td>USR1004</td>\n",
       "      <td>1/2/2022</td>\n",
       "      <td>Telugu</td>\n",
       "      <td>35</td>\n",
       "    </tr>\n",
       "    <tr>\n",
       "      <th>3</th>\n",
       "      <td>USR1005</td>\n",
       "      <td>1/3/2022</td>\n",
       "      <td>Hindi</td>\n",
       "      <td>38</td>\n",
       "    </tr>\n",
       "    <tr>\n",
       "      <th>4</th>\n",
       "      <td>USR1006</td>\n",
       "      <td>1/12/2022</td>\n",
       "      <td>Hindi</td>\n",
       "      <td>54</td>\n",
       "    </tr>\n",
       "  </tbody>\n",
       "</table>\n",
       "</div>"
      ],
      "text/plain": [
       "   lead_id demo_watched_date language  watched_percentage\n",
       "0  USR1002          1/4/2022   Telugu                  42\n",
       "1  USR1003          1/7/2022   Telugu                  81\n",
       "2  USR1004          1/2/2022   Telugu                  35\n",
       "3  USR1005          1/3/2022    Hindi                  38\n",
       "4  USR1006         1/12/2022    Hindi                  54"
      ]
     },
     "execution_count": 62,
     "metadata": {},
     "output_type": "execute_result"
    }
   ],
   "source": [
    "leads_demo_watched_details_cleaned.head()"
   ]
  },
  {
   "cell_type": "code",
   "execution_count": 63,
   "id": "9e82c93a",
   "metadata": {},
   "outputs": [
    {
     "data": {
      "text/plain": [
       "Text(0, 0.5, 'Lead Count')"
      ]
     },
     "execution_count": 63,
     "metadata": {},
     "output_type": "execute_result"
    },
    {
     "data": {
      "image/png": "[encoded data removed]",
      "text/plain": [
       "<Figure size 432x288 with 1 Axes>"
      ]
     },
     "metadata": {
      "needs_background": "light"
     },
     "output_type": "display_data"
    }
   ],
   "source": [
    "leads_language = leads_demo_watched_details_cleaned.groupby('language').size()\n",
    "\n",
    "leads_language.plot(kind=\"bar\")\n",
    "plt.xticks(rotation=45, horizontalalignment=\"center\")\n",
    "plt.title(\"Leads Language\")\n",
    "plt.xlabel(\"Languages\")\n",
    "plt.ylabel(\"Lead Count\")"
   ]
  },
  {
   "cell_type": "code",
   "execution_count": 231,
   "id": "75dcadb0",
   "metadata": {},
   "outputs": [
    {
     "data": {
      "text/plain": [
       "Text(0, 0.5, 'Watched percentage (%)')"
      ]
     },
     "execution_count": 231,
     "metadata": {},
     "output_type": "execute_result"
    },
    {
     "data": {
      "image/png": "[encoded data removed]",
      "text/plain": [
       "<Figure size 1440x1440 with 1 Axes>"
      ]
     },
     "metadata": {
      "needs_background": "light"
     },
     "output_type": "display_data"
    }
   ],
   "source": [
    "leads_watched_percentage = leads_demo_watched_details_cleaned.groupby('watched_percentage').size()\n",
    "\n",
    "leads_watched_percentage.plot(kind=\"barh\", color=\"cyan\",figsize=(20, 20))\n",
    "plt.xticks(rotation=45, horizontalalignment=\"center\")\n",
    "plt.title(\"Leads watched percentage\")\n",
    "plt.xlabel(\"Lead Count\")\n",
    "plt.ylabel(\"Watched percentage (%)\")"
   ]
  },
  {
   "cell_type": "markdown",
   "id": "769ce766",
   "metadata": {},
   "source": [
    "#  Findings of leads_demo_watched_details dataset\n",
    "\n",
    "English is the most prefered language to watch with, followed by Telugu and Hindi.\n",
    "\n",
    "The chance of a lead watching 50% or more of the media is higher."
   ]
  },
  {
   "cell_type": "markdown",
   "id": "1412cd2a",
   "metadata": {},
   "source": [
    "# Analysing leads_interaction_details dataset merged with leads_demo_watched_details dataset"
   ]
  },
  {
   "cell_type": "code",
   "execution_count": 64,
   "id": "1c691592",
   "metadata": {},
   "outputs": [
    {
     "data": {
      "text/html": [
       "<div>\n",
       "<style scoped>\n",
       "    .dataframe tbody tr th:only-of-type {\n",
       "        vertical-align: middle;\n",
       "    }\n",
       "\n",
       "    .dataframe tbody tr th {\n",
       "        vertical-align: top;\n",
       "    }\n",
       "\n",
       "    .dataframe thead th {\n",
       "        text-align: right;\n",
       "    }\n",
       "</style>\n",
       "<table border=\"1\" class=\"dataframe\">\n",
       "  <thead>\n",
       "    <tr style=\"text-align: right;\">\n",
       "      <th></th>\n",
       "      <th>jnr_sm_id</th>\n",
       "      <th>lead_id</th>\n",
       "      <th>lead_stage</th>\n",
       "      <th>call_done_date</th>\n",
       "      <th>call_status</th>\n",
       "      <th>call_reason</th>\n",
       "    </tr>\n",
       "  </thead>\n",
       "  <tbody>\n",
       "    <tr>\n",
       "      <th>0</th>\n",
       "      <td>JNR1001MG</td>\n",
       "      <td>USR1001</td>\n",
       "      <td>lead</td>\n",
       "      <td>1/2/2022</td>\n",
       "      <td>successful</td>\n",
       "      <td>lead_introduction</td>\n",
       "    </tr>\n",
       "    <tr>\n",
       "      <th>1</th>\n",
       "      <td>JNR1001MG</td>\n",
       "      <td>USR1001</td>\n",
       "      <td>lead</td>\n",
       "      <td>1/2/2022</td>\n",
       "      <td>successful</td>\n",
       "      <td>demo_schedule</td>\n",
       "    </tr>\n",
       "    <tr>\n",
       "      <th>2</th>\n",
       "      <td>JNR1001MG</td>\n",
       "      <td>USR1002</td>\n",
       "      <td>lead</td>\n",
       "      <td>1/3/2022</td>\n",
       "      <td>successful</td>\n",
       "      <td>lead_introduction</td>\n",
       "    </tr>\n",
       "    <tr>\n",
       "      <th>3</th>\n",
       "      <td>JNR1001MG</td>\n",
       "      <td>USR1002</td>\n",
       "      <td>lead</td>\n",
       "      <td>1/4/2022</td>\n",
       "      <td>successful</td>\n",
       "      <td>demo_schedule</td>\n",
       "    </tr>\n",
       "    <tr>\n",
       "      <th>4</th>\n",
       "      <td>JNR1001MG</td>\n",
       "      <td>USR1002</td>\n",
       "      <td>awareness</td>\n",
       "      <td>1/5/2022</td>\n",
       "      <td>successful</td>\n",
       "      <td>post_demo_followup</td>\n",
       "    </tr>\n",
       "  </tbody>\n",
       "</table>\n",
       "</div>"
      ],
      "text/plain": [
       "   jnr_sm_id  lead_id lead_stage call_done_date call_status  \\\n",
       "0  JNR1001MG  USR1001       lead       1/2/2022  successful   \n",
       "1  JNR1001MG  USR1001       lead       1/2/2022  successful   \n",
       "2  JNR1001MG  USR1002       lead       1/3/2022  successful   \n",
       "3  JNR1001MG  USR1002       lead       1/4/2022  successful   \n",
       "4  JNR1001MG  USR1002  awareness       1/5/2022  successful   \n",
       "\n",
       "          call_reason  \n",
       "0   lead_introduction  \n",
       "1       demo_schedule  \n",
       "2   lead_introduction  \n",
       "3       demo_schedule  \n",
       "4  post_demo_followup  "
      ]
     },
     "execution_count": 64,
     "metadata": {},
     "output_type": "execute_result"
    }
   ],
   "source": [
    "leads_interaction_details_cleaned.head()"
   ]
  },
  {
   "cell_type": "code",
   "execution_count": 65,
   "id": "ec85207d",
   "metadata": {},
   "outputs": [
    {
     "data": {
      "text/html": [
       "<div>\n",
       "<style scoped>\n",
       "    .dataframe tbody tr th:only-of-type {\n",
       "        vertical-align: middle;\n",
       "    }\n",
       "\n",
       "    .dataframe tbody tr th {\n",
       "        vertical-align: top;\n",
       "    }\n",
       "\n",
       "    .dataframe thead th {\n",
       "        text-align: right;\n",
       "    }\n",
       "</style>\n",
       "<table border=\"1\" class=\"dataframe\">\n",
       "  <thead>\n",
       "    <tr style=\"text-align: right;\">\n",
       "      <th></th>\n",
       "      <th>lead_id</th>\n",
       "      <th>demo_watched_date</th>\n",
       "      <th>language</th>\n",
       "      <th>watched_percentage</th>\n",
       "      <th>jnr_sm_id</th>\n",
       "      <th>lead_stage</th>\n",
       "      <th>call_done_date</th>\n",
       "      <th>call_status</th>\n",
       "      <th>call_reason</th>\n",
       "    </tr>\n",
       "  </thead>\n",
       "  <tbody>\n",
       "    <tr>\n",
       "      <th>0</th>\n",
       "      <td>USR1002</td>\n",
       "      <td>1/4/2022</td>\n",
       "      <td>Telugu</td>\n",
       "      <td>42</td>\n",
       "      <td>JNR1001MG</td>\n",
       "      <td>lead</td>\n",
       "      <td>1/3/2022</td>\n",
       "      <td>successful</td>\n",
       "      <td>lead_introduction</td>\n",
       "    </tr>\n",
       "    <tr>\n",
       "      <th>1</th>\n",
       "      <td>USR1002</td>\n",
       "      <td>1/4/2022</td>\n",
       "      <td>Telugu</td>\n",
       "      <td>42</td>\n",
       "      <td>JNR1001MG</td>\n",
       "      <td>lead</td>\n",
       "      <td>1/4/2022</td>\n",
       "      <td>successful</td>\n",
       "      <td>demo_schedule</td>\n",
       "    </tr>\n",
       "    <tr>\n",
       "      <th>2</th>\n",
       "      <td>USR1002</td>\n",
       "      <td>1/4/2022</td>\n",
       "      <td>Telugu</td>\n",
       "      <td>42</td>\n",
       "      <td>JNR1001MG</td>\n",
       "      <td>awareness</td>\n",
       "      <td>1/5/2022</td>\n",
       "      <td>successful</td>\n",
       "      <td>post_demo_followup</td>\n",
       "    </tr>\n",
       "    <tr>\n",
       "      <th>3</th>\n",
       "      <td>USR1002</td>\n",
       "      <td>1/4/2022</td>\n",
       "      <td>Telugu</td>\n",
       "      <td>42</td>\n",
       "      <td>JNR1001MG</td>\n",
       "      <td>awareness</td>\n",
       "      <td>1/6/2022</td>\n",
       "      <td>successful</td>\n",
       "      <td>followup_for_consideration</td>\n",
       "    </tr>\n",
       "    <tr>\n",
       "      <th>4</th>\n",
       "      <td>USR1002</td>\n",
       "      <td>1/4/2022</td>\n",
       "      <td>Telugu</td>\n",
       "      <td>42</td>\n",
       "      <td>JNR1001MG</td>\n",
       "      <td>consideration</td>\n",
       "      <td>1/7/2022</td>\n",
       "      <td>successful</td>\n",
       "      <td>interested_for_conversion</td>\n",
       "    </tr>\n",
       "  </tbody>\n",
       "</table>\n",
       "</div>"
      ],
      "text/plain": [
       "   lead_id demo_watched_date language  watched_percentage  jnr_sm_id  \\\n",
       "0  USR1002          1/4/2022   Telugu                  42  JNR1001MG   \n",
       "1  USR1002          1/4/2022   Telugu                  42  JNR1001MG   \n",
       "2  USR1002          1/4/2022   Telugu                  42  JNR1001MG   \n",
       "3  USR1002          1/4/2022   Telugu                  42  JNR1001MG   \n",
       "4  USR1002          1/4/2022   Telugu                  42  JNR1001MG   \n",
       "\n",
       "      lead_stage call_done_date call_status                 call_reason  \n",
       "0           lead       1/3/2022  successful           lead_introduction  \n",
       "1           lead       1/4/2022  successful               demo_schedule  \n",
       "2      awareness       1/5/2022  successful          post_demo_followup  \n",
       "3      awareness       1/6/2022  successful  followup_for_consideration  \n",
       "4  consideration       1/7/2022  successful   interested_for_conversion  "
      ]
     },
     "execution_count": 65,
     "metadata": {},
     "output_type": "execute_result"
    }
   ],
   "source": [
    "leads_interaction_demo_merged = pd.merge(leads_demo_watched_details_cleaned, leads_interaction_details_cleaned, on=['lead_id'])\n",
    "leads_interaction_demo_merged.head()"
   ]
  },
  {
   "cell_type": "code",
   "execution_count": 66,
   "id": "ff0f33fb",
   "metadata": {},
   "outputs": [
    {
     "data": {
      "text/html": [
       "<div>\n",
       "<style scoped>\n",
       "    .dataframe tbody tr th:only-of-type {\n",
       "        vertical-align: middle;\n",
       "    }\n",
       "\n",
       "    .dataframe tbody tr th {\n",
       "        vertical-align: top;\n",
       "    }\n",
       "\n",
       "    .dataframe thead th {\n",
       "        text-align: right;\n",
       "    }\n",
       "</style>\n",
       "<table border=\"1\" class=\"dataframe\">\n",
       "  <thead>\n",
       "    <tr style=\"text-align: right;\">\n",
       "      <th></th>\n",
       "      <th>language</th>\n",
       "      <th>count</th>\n",
       "    </tr>\n",
       "  </thead>\n",
       "  <tbody>\n",
       "    <tr>\n",
       "      <th>0</th>\n",
       "      <td>English</td>\n",
       "      <td>81</td>\n",
       "    </tr>\n",
       "    <tr>\n",
       "      <th>1</th>\n",
       "      <td>Hindi</td>\n",
       "      <td>16</td>\n",
       "    </tr>\n",
       "    <tr>\n",
       "      <th>2</th>\n",
       "      <td>Telugu</td>\n",
       "      <td>44</td>\n",
       "    </tr>\n",
       "  </tbody>\n",
       "</table>\n",
       "</div>"
      ],
      "text/plain": [
       "  language  count\n",
       "0  English     81\n",
       "1    Hindi     16\n",
       "2   Telugu     44"
      ]
     },
     "execution_count": 66,
     "metadata": {},
     "output_type": "execute_result"
    }
   ],
   "source": [
    "leads_interaction_breakdown1 = pysql('SELECT language, COUNT(call_reason) as count FROM leads_interaction_demo_merged WHERE call_reason =\"interested_for_conversion\" GROUP BY language')\n",
    "leads_interaction_breakdown1.head()"
   ]
  },
  {
   "cell_type": "code",
   "execution_count": 67,
   "id": "9e0fb86b",
   "metadata": {},
   "outputs": [
    {
     "data": {
      "text/plain": [
       "Text(0, 0.5, 'Lead Count')"
      ]
     },
     "execution_count": 67,
     "metadata": {},
     "output_type": "execute_result"
    },
    {
     "data": {
      "image/png": "[encoded data removed]",
      "text/plain": [
       "<Figure size 432x288 with 1 Axes>"
      ]
     },
     "metadata": {
      "needs_background": "light"
     },
     "output_type": "display_data"
    }
   ],
   "source": [
    "leads_language_count = leads_interaction_breakdown1\n",
    "\n",
    "leads_language_count.plot(kind=\"bar\" , x = 'language', y = 'count')\n",
    "plt.xticks(rotation=45, horizontalalignment=\"center\")\n",
    "plt.title(\"Leads Language for call_reason(interested_for_conversion)\")\n",
    "plt.xlabel(\"Languages\")\n",
    "plt.ylabel(\"Lead Count\")"
   ]
  },
  {
   "cell_type": "markdown",
   "id": "713b3512",
   "metadata": {},
   "source": [
    "English speaking leads are the most interested, followed by Telugu speaking leads."
   ]
  },
  {
   "cell_type": "code",
   "execution_count": 68,
   "id": "fc9303f2",
   "metadata": {},
   "outputs": [
    {
     "data": {
      "text/html": [
       "<div>\n",
       "<style scoped>\n",
       "    .dataframe tbody tr th:only-of-type {\n",
       "        vertical-align: middle;\n",
       "    }\n",
       "\n",
       "    .dataframe tbody tr th {\n",
       "        vertical-align: top;\n",
       "    }\n",
       "\n",
       "    .dataframe thead th {\n",
       "        text-align: right;\n",
       "    }\n",
       "</style>\n",
       "<table border=\"1\" class=\"dataframe\">\n",
       "  <thead>\n",
       "    <tr style=\"text-align: right;\">\n",
       "      <th></th>\n",
       "      <th>language</th>\n",
       "      <th>count</th>\n",
       "    </tr>\n",
       "  </thead>\n",
       "  <tbody>\n",
       "    <tr>\n",
       "      <th>0</th>\n",
       "      <td>English</td>\n",
       "      <td>112</td>\n",
       "    </tr>\n",
       "    <tr>\n",
       "      <th>1</th>\n",
       "      <td>Hindi</td>\n",
       "      <td>20</td>\n",
       "    </tr>\n",
       "    <tr>\n",
       "      <th>2</th>\n",
       "      <td>Telugu</td>\n",
       "      <td>62</td>\n",
       "    </tr>\n",
       "  </tbody>\n",
       "</table>\n",
       "</div>"
      ],
      "text/plain": [
       "  language  count\n",
       "0  English    112\n",
       "1    Hindi     20\n",
       "2   Telugu     62"
      ]
     },
     "execution_count": 68,
     "metadata": {},
     "output_type": "execute_result"
    }
   ],
   "source": [
    "leads_interaction_breakdown2 = pysql('SELECT language, COUNT(call_reason) as count FROM leads_interaction_demo_merged WHERE call_reason =\"post_demo_followup\" GROUP BY language')\n",
    "leads_interaction_breakdown2.head()"
   ]
  },
  {
   "cell_type": "code",
   "execution_count": 69,
   "id": "21f8f8b0",
   "metadata": {},
   "outputs": [
    {
     "data": {
      "text/plain": [
       "Text(0, 0.5, 'Lead Count')"
      ]
     },
     "execution_count": 69,
     "metadata": {},
     "output_type": "execute_result"
    },
    {
     "data": {
      "image/png": "[encoded data removed]",
      "text/plain": [
       "<Figure size 432x288 with 1 Axes>"
      ]
     },
     "metadata": {
      "needs_background": "light"
     },
     "output_type": "display_data"
    }
   ],
   "source": [
    "leads_language_count1 = leads_interaction_breakdown2\n",
    "\n",
    "leads_language_count1.plot(kind=\"bar\" , x = 'language', y = 'count')\n",
    "plt.xticks(rotation=45, horizontalalignment=\"center\")\n",
    "plt.title(\"Leads Language for call_reason(post_demo_followup)\")\n",
    "plt.xlabel(\"Languages\")\n",
    "plt.ylabel(\"Lead Count\")"
   ]
  },
  {
   "cell_type": "markdown",
   "id": "ccacbd6f",
   "metadata": {},
   "source": [
    "Again, English speaking leads are more interested after demo is taken, followed by Telugu speaking leads"
   ]
  },
  {
   "cell_type": "code",
   "execution_count": 70,
   "id": "439de308",
   "metadata": {},
   "outputs": [
    {
     "data": {
      "text/html": [
       "<div>\n",
       "<style scoped>\n",
       "    .dataframe tbody tr th:only-of-type {\n",
       "        vertical-align: middle;\n",
       "    }\n",
       "\n",
       "    .dataframe tbody tr th {\n",
       "        vertical-align: top;\n",
       "    }\n",
       "\n",
       "    .dataframe thead th {\n",
       "        text-align: right;\n",
       "    }\n",
       "</style>\n",
       "<table border=\"1\" class=\"dataframe\">\n",
       "  <thead>\n",
       "    <tr style=\"text-align: right;\">\n",
       "      <th></th>\n",
       "      <th>language</th>\n",
       "      <th>count</th>\n",
       "    </tr>\n",
       "  </thead>\n",
       "  <tbody>\n",
       "    <tr>\n",
       "      <th>0</th>\n",
       "      <td>English</td>\n",
       "      <td>116</td>\n",
       "    </tr>\n",
       "    <tr>\n",
       "      <th>1</th>\n",
       "      <td>Hindi</td>\n",
       "      <td>21</td>\n",
       "    </tr>\n",
       "    <tr>\n",
       "      <th>2</th>\n",
       "      <td>Telugu</td>\n",
       "      <td>59</td>\n",
       "    </tr>\n",
       "  </tbody>\n",
       "</table>\n",
       "</div>"
      ],
      "text/plain": [
       "  language  count\n",
       "0  English    116\n",
       "1    Hindi     21\n",
       "2   Telugu     59"
      ]
     },
     "execution_count": 70,
     "metadata": {},
     "output_type": "execute_result"
    }
   ],
   "source": [
    "leads_interaction_breakdown3 = pysql('SELECT language, COUNT(call_status) as count FROM leads_interaction_demo_merged WHERE call_status =\"unsuccessful\" GROUP BY language')\n",
    "leads_interaction_breakdown3.head()"
   ]
  },
  {
   "cell_type": "code",
   "execution_count": 71,
   "id": "233cf22a",
   "metadata": {},
   "outputs": [
    {
     "data": {
      "text/plain": [
       "Text(0, 0.5, 'Lead Count')"
      ]
     },
     "execution_count": 71,
     "metadata": {},
     "output_type": "execute_result"
    },
    {
     "data": {
      "image/png": "[encoded data removed]",
      "text/plain": [
       "<Figure size 432x288 with 1 Axes>"
      ]
     },
     "metadata": {
      "needs_background": "light"
     },
     "output_type": "display_data"
    }
   ],
   "source": [
    "leads_language_count2 = leads_interaction_breakdown3\n",
    "\n",
    "leads_language_count2.plot(kind=\"bar\" , x = 'language', y = 'count')\n",
    "plt.xticks(rotation=45, horizontalalignment=\"center\")\n",
    "plt.title(\"Leads Language in call_status(unsuccessful)\")\n",
    "plt.xlabel(\"Languages\")\n",
    "plt.ylabel(\"Lead Count\")"
   ]
  },
  {
   "cell_type": "markdown",
   "id": "3ee99698",
   "metadata": {},
   "source": [
    "Again, The most prefered languages English also has the highest unsuccessful conversion rate, followed by Telugu and Hindi"
   ]
  },
  {
   "cell_type": "code",
   "execution_count": 73,
   "id": "38543d31",
   "metadata": {},
   "outputs": [
    {
     "data": {
      "text/html": [
       "<div>\n",
       "<style scoped>\n",
       "    .dataframe tbody tr th:only-of-type {\n",
       "        vertical-align: middle;\n",
       "    }\n",
       "\n",
       "    .dataframe tbody tr th {\n",
       "        vertical-align: top;\n",
       "    }\n",
       "\n",
       "    .dataframe thead th {\n",
       "        text-align: right;\n",
       "    }\n",
       "</style>\n",
       "<table border=\"1\" class=\"dataframe\">\n",
       "  <thead>\n",
       "    <tr style=\"text-align: right;\">\n",
       "      <th></th>\n",
       "      <th>language</th>\n",
       "      <th>count</th>\n",
       "    </tr>\n",
       "  </thead>\n",
       "  <tbody>\n",
       "    <tr>\n",
       "      <th>0</th>\n",
       "      <td>English</td>\n",
       "      <td>42</td>\n",
       "    </tr>\n",
       "    <tr>\n",
       "      <th>1</th>\n",
       "      <td>Hindi</td>\n",
       "      <td>4</td>\n",
       "    </tr>\n",
       "    <tr>\n",
       "      <th>2</th>\n",
       "      <td>Telugu</td>\n",
       "      <td>17</td>\n",
       "    </tr>\n",
       "  </tbody>\n",
       "</table>\n",
       "</div>"
      ],
      "text/plain": [
       "  language  count\n",
       "0  English     42\n",
       "1    Hindi      4\n",
       "2   Telugu     17"
      ]
     },
     "execution_count": 73,
     "metadata": {},
     "output_type": "execute_result"
    }
   ],
   "source": [
    "leads_interaction_breakdown4 = pysql('SELECT language, COUNT(call_status) as count FROM leads_interaction_demo_merged WHERE call_status =\"successful\" and call_reason = \"successful_conversion\"  GROUP BY language')\n",
    "leads_interaction_breakdown4.head()"
   ]
  },
  {
   "cell_type": "code",
   "execution_count": 75,
   "id": "4d63df18",
   "metadata": {},
   "outputs": [
    {
     "data": {
      "text/plain": [
       "Text(0, 0.5, 'Lead Count')"
      ]
     },
     "execution_count": 75,
     "metadata": {},
     "output_type": "execute_result"
    },
    {
     "data": {
      "image/png": "[encoded data removed]",
      "text/plain": [
       "<Figure size 432x288 with 1 Axes>"
      ]
     },
     "metadata": {
      "needs_background": "light"
     },
     "output_type": "display_data"
    }
   ],
   "source": [
    "leads_language_count3 = leads_interaction_breakdown4\n",
    "\n",
    "leads_language_count3.plot(kind=\"bar\" , x = 'language', y = 'count')\n",
    "plt.xticks(rotation=45, horizontalalignment=\"center\")\n",
    "plt.title(\"Leads Language who were successfully converted\")\n",
    "plt.xlabel(\"Languages\")\n",
    "plt.ylabel(\"Lead Count\")"
   ]
  },
  {
   "cell_type": "code",
   "execution_count": 77,
   "id": "5e50996b",
   "metadata": {},
   "outputs": [
    {
     "data": {
      "text/html": [
       "<div>\n",
       "<style scoped>\n",
       "    .dataframe tbody tr th:only-of-type {\n",
       "        vertical-align: middle;\n",
       "    }\n",
       "\n",
       "    .dataframe tbody tr th {\n",
       "        vertical-align: top;\n",
       "    }\n",
       "\n",
       "    .dataframe thead th {\n",
       "        text-align: right;\n",
       "    }\n",
       "</style>\n",
       "<table border=\"1\" class=\"dataframe\">\n",
       "  <thead>\n",
       "    <tr style=\"text-align: right;\">\n",
       "      <th></th>\n",
       "      <th>language</th>\n",
       "      <th>Avg_watch_duration</th>\n",
       "    </tr>\n",
       "  </thead>\n",
       "  <tbody>\n",
       "    <tr>\n",
       "      <th>0</th>\n",
       "      <td>English</td>\n",
       "      <td>56.062975</td>\n",
       "    </tr>\n",
       "    <tr>\n",
       "      <th>1</th>\n",
       "      <td>Hindi</td>\n",
       "      <td>50.365517</td>\n",
       "    </tr>\n",
       "    <tr>\n",
       "      <th>2</th>\n",
       "      <td>Telugu</td>\n",
       "      <td>50.850716</td>\n",
       "    </tr>\n",
       "  </tbody>\n",
       "</table>\n",
       "</div>"
      ],
      "text/plain": [
       "  language  Avg_watch_duration\n",
       "0  English           56.062975\n",
       "1    Hindi           50.365517\n",
       "2   Telugu           50.850716"
      ]
     },
     "execution_count": 77,
     "metadata": {},
     "output_type": "execute_result"
    }
   ],
   "source": [
    "leads_interaction_breakdown5 = pysql('SELECT language, AVG(watched_percentage) as Avg_watch_duration FROM leads_interaction_demo_merged GROUP BY language')\n",
    "leads_interaction_breakdown5.head()"
   ]
  },
  {
   "cell_type": "code",
   "execution_count": 79,
   "id": "bc5c0cb3",
   "metadata": {
    "scrolled": true
   },
   "outputs": [
    {
     "data": {
      "text/plain": [
       "Text(0, 0.5, 'Lead Count')"
      ]
     },
     "execution_count": 79,
     "metadata": {},
     "output_type": "execute_result"
    },
    {
     "data": {
      "image/png": "[encoded data removed]",
      "text/plain": [
       "<Figure size 432x288 with 1 Axes>"
      ]
     },
     "metadata": {
      "needs_background": "light"
     },
     "output_type": "display_data"
    }
   ],
   "source": [
    "leads_language_count4 = leads_interaction_breakdown5\n",
    "\n",
    "leads_language_count4.plot(kind=\"bar\" , x = 'language', y = 'Avg_watch_duration')\n",
    "plt.xticks(rotation=45, horizontalalignment=\"center\")\n",
    "plt.title(\"Leads Language and their average watched duration\")\n",
    "plt.xlabel(\"Languages\")\n",
    "plt.ylabel(\"Lead Count\")"
   ]
  },
  {
   "cell_type": "markdown",
   "id": "a1b90828",
   "metadata": {},
   "source": [
    "English speaking leads have the highest average watch duration of demo (56%), followed by Telugu and Hindi"
   ]
  },
  {
   "cell_type": "markdown",
   "id": "62b8447c",
   "metadata": {},
   "source": [
    "# Findings of leads_interaction_details merged with leads_demo_watched_details dataset\n",
    "\n",
    "Leads speaking English have a higher conversion rate, followed by Telugu and Hindi\n",
    "\n",
    "Leads speaking English also have a higher interest rate in different stages of conversion (specially after demo and interested in conversation/conversion), followed by Telugu and Hindi\n",
    "\n",
    "Leads speaking English also reject the proposal alot more than Telugu and Hindi speakers"
   ]
  },
  {
   "cell_type": "markdown",
   "id": "ca08c9ea",
   "metadata": {},
   "source": [
    "# Analysing leads_reasons_for_no_interest dataset"
   ]
  },
  {
   "cell_type": "code",
   "execution_count": 119,
   "id": "b999551e",
   "metadata": {},
   "outputs": [
    {
     "data": {
      "text/html": [
       "<div>\n",
       "<style scoped>\n",
       "    .dataframe tbody tr th:only-of-type {\n",
       "        vertical-align: middle;\n",
       "    }\n",
       "\n",
       "    .dataframe tbody tr th {\n",
       "        vertical-align: top;\n",
       "    }\n",
       "\n",
       "    .dataframe thead th {\n",
       "        text-align: right;\n",
       "    }\n",
       "</style>\n",
       "<table border=\"1\" class=\"dataframe\">\n",
       "  <thead>\n",
       "    <tr style=\"text-align: right;\">\n",
       "      <th></th>\n",
       "      <th>lead_id</th>\n",
       "      <th>reasons_for_not_interested_in_demo</th>\n",
       "      <th>reasons_for_not_interested_to_consider</th>\n",
       "      <th>reasons_for_not_interested_to_convert</th>\n",
       "    </tr>\n",
       "  </thead>\n",
       "  <tbody>\n",
       "    <tr>\n",
       "      <th>0</th>\n",
       "      <td>USR1001</td>\n",
       "      <td>No time for student</td>\n",
       "      <td>NaN</td>\n",
       "      <td>NaN</td>\n",
       "    </tr>\n",
       "    <tr>\n",
       "      <th>1</th>\n",
       "      <td>USR1003</td>\n",
       "      <td>NaN</td>\n",
       "      <td>No time for student</td>\n",
       "      <td>NaN</td>\n",
       "    </tr>\n",
       "    <tr>\n",
       "      <th>2</th>\n",
       "      <td>USR1004</td>\n",
       "      <td>NaN</td>\n",
       "      <td>Wants offline classes</td>\n",
       "      <td>NaN</td>\n",
       "    </tr>\n",
       "    <tr>\n",
       "      <th>3</th>\n",
       "      <td>USR1005</td>\n",
       "      <td>NaN</td>\n",
       "      <td>Can't afford</td>\n",
       "      <td>NaN</td>\n",
       "    </tr>\n",
       "    <tr>\n",
       "      <th>4</th>\n",
       "      <td>USR1006</td>\n",
       "      <td>NaN</td>\n",
       "      <td>Student not interested in domain</td>\n",
       "      <td>NaN</td>\n",
       "    </tr>\n",
       "  </tbody>\n",
       "</table>\n",
       "</div>"
      ],
      "text/plain": [
       "   lead_id reasons_for_not_interested_in_demo  \\\n",
       "0  USR1001                No time for student   \n",
       "1  USR1003                                NaN   \n",
       "2  USR1004                                NaN   \n",
       "3  USR1005                                NaN   \n",
       "4  USR1006                                NaN   \n",
       "\n",
       "  reasons_for_not_interested_to_consider reasons_for_not_interested_to_convert  \n",
       "0                                    NaN                                   NaN  \n",
       "1                    No time for student                                   NaN  \n",
       "2                  Wants offline classes                                   NaN  \n",
       "3                           Can't afford                                   NaN  \n",
       "4       Student not interested in domain                                   NaN  "
      ]
     },
     "execution_count": 119,
     "metadata": {},
     "output_type": "execute_result"
    }
   ],
   "source": [
    "leads_reasons_for_no_interest_cleaned.head()"
   ]
  },
  {
   "cell_type": "code",
   "execution_count": 122,
   "id": "2277dc9a",
   "metadata": {},
   "outputs": [
    {
     "name": "stdout",
     "output_type": "stream",
     "text": [
      "  reasons_for_not_interested_in_demo  count\n",
      "0              Wants offline classes     56\n",
      "1                       Can't afford     48\n",
      "2   Student not interested in domain     28\n",
      "3                No time for student     26\n",
      "4            Will join in final year      5\n"
     ]
    }
   ],
   "source": [
    "reason_not_interested_demo_breakdown = pysql(\"SELECT reasons_for_not_interested_in_demo, COUNT(reasons_for_not_interested_in_demo) as count FROM leads_reasons_for_no_interest_cleaned GROUP BY reasons_for_not_interested_in_demo ORDER BY count DESC\")\n",
    "reason_not_interested_demo_breakdown = reason_not_interested_demo_breakdown.drop([5])\n",
    "print(reason_not_interested_demo_breakdown)"
   ]
  },
  {
   "cell_type": "code",
   "execution_count": 124,
   "id": "43aa2e29",
   "metadata": {},
   "outputs": [
    {
     "data": {
      "image/png": "[encoded data removed]",
      "text/plain": [
       "<Figure size 432x288 with 1 Axes>"
      ]
     },
     "metadata": {},
     "output_type": "display_data"
    }
   ],
   "source": [
    "labels = reason_not_interested_demo_breakdown['reasons_for_not_interested_in_demo'].unique()\n",
    "x = reason_not_interested_demo_breakdown['count']\n",
    "explode = (0.1, 0, 0, 0, 0)\n",
    "\n",
    "fig, ax2 = plt.subplots()\n",
    "ax2.pie(x, labels = labels, autopct='%1.1f%%' ,explode=explode, shadow=True)\n",
    "ax2.set_title('Reasons for not interested in demo')\n",
    "ax2.axis('equal')\n",
    "plt.show()\n"
   ]
  },
  {
   "cell_type": "markdown",
   "id": "73e4ca1c",
   "metadata": {},
   "source": [
    "Wants offline classes (34.4%) has the highest reasons for not being interested in demo, followed by Can't afford (29.4%)"
   ]
  },
  {
   "cell_type": "markdown",
   "id": "f056f2e8",
   "metadata": {},
   "source": [
    "Note: Cannot afford should be Can't afford"
   ]
  },
  {
   "cell_type": "code",
   "execution_count": 105,
   "id": "0c321db0",
   "metadata": {},
   "outputs": [
    {
     "name": "stdout",
     "output_type": "stream",
     "text": [
      "  reasons_for_not_interested_to_consider  count\n",
      "0                           Can't afford     31\n",
      "1                  Wants offline classes     25\n",
      "2       Student not interested in domain     14\n",
      "3                    No time for student      6\n",
      "4                Will join in final year      2\n"
     ]
    }
   ],
   "source": [
    "reason_not_interested_consider_breakdown = pysql(\"SELECT reasons_for_not_interested_to_consider, COUNT(reasons_for_not_interested_to_consider) as count FROM leads_reasons_for_no_interest_cleaned GROUP BY reasons_for_not_interested_to_consider ORDER BY count DESC\")\n",
    "reason_not_interested_consider_breakdown = reason_not_interested_consider_breakdown.drop([5])\n",
    "print(reason_not_interested_consider_breakdown)"
   ]
  },
  {
   "cell_type": "code",
   "execution_count": 108,
   "id": "a20a1f91",
   "metadata": {},
   "outputs": [
    {
     "data": {
      "image/png": "[encoded data removed]",
      "text/plain": [
       "<Figure size 432x288 with 1 Axes>"
      ]
     },
     "metadata": {},
     "output_type": "display_data"
    }
   ],
   "source": [
    "labels = reason_not_interested_consider_breakdown['reasons_for_not_interested_to_consider'].unique()\n",
    "x = reason_not_interested_consider_breakdown['count']\n",
    "explode = (0.1, 0, 0, 0, 0)\n",
    "\n",
    "fig, ax3 = plt.subplots()\n",
    "ax3.pie(x, labels = labels, autopct='%1.1f%%' ,explode=explode, shadow=True)\n",
    "ax3.set_title('Reasons for not interested to consider')\n",
    "ax3.axis('equal')\n",
    "plt.show()"
   ]
  },
  {
   "cell_type": "markdown",
   "id": "c878117f",
   "metadata": {},
   "source": [
    "Can't afford (39.7%) has the highest reasons for not being interested to consider, followed by Wants offline claasses (32.1%)"
   ]
  },
  {
   "cell_type": "code",
   "execution_count": 112,
   "id": "9d6b3d71",
   "metadata": {},
   "outputs": [
    {
     "name": "stdout",
     "output_type": "stream",
     "text": [
      "  reasons_for_not_interested_to_convert  count\n",
      "0                          Can't afford     19\n",
      "1                 Wants offline classes     10\n",
      "2      Student not interested in domain     10\n",
      "3               Will join in final year      7\n",
      "4                   No time for student      5\n"
     ]
    }
   ],
   "source": [
    "reason_not_interested_convert_breakdown = pysql(\"SELECT reasons_for_not_interested_to_convert, COUNT(reasons_for_not_interested_to_convert) as count FROM leads_reasons_for_no_interest_cleaned GROUP BY reasons_for_not_interested_to_convert ORDER BY count DESC\")\n",
    "reason_not_interested_convert_breakdown = reason_not_interested_convert_breakdown.drop([5])\n",
    "print(reason_not_interested_convert_breakdown)"
   ]
  },
  {
   "cell_type": "code",
   "execution_count": 113,
   "id": "781ba406",
   "metadata": {},
   "outputs": [
    {
     "data": {
      "image/png": "[encoded data removed]",
      "text/plain": [
       "<Figure size 432x288 with 1 Axes>"
      ]
     },
     "metadata": {},
     "output_type": "display_data"
    }
   ],
   "source": [
    "labels = reason_not_interested_convert_breakdown['reasons_for_not_interested_to_convert'].unique()\n",
    "x = reason_not_interested_convert_breakdown['count']\n",
    "explode = (0.1, 0, 0, 0, 0)\n",
    "\n",
    "fig, ax3 = plt.subplots()\n",
    "ax3.pie(x, labels = labels, autopct='%1.1f%%' ,explode=explode, shadow=True)\n",
    "ax3.set_title('Reasons for not interested to convert')\n",
    "ax3.axis('equal')\n",
    "plt.show()"
   ]
  },
  {
   "cell_type": "markdown",
   "id": "379828d5",
   "metadata": {},
   "source": [
    "Can't afford (37.3%) has the highest reasons for not being interested to consider, followed by Wants offline claasses, Student not interested in domain (19.6%)"
   ]
  },
  {
   "cell_type": "markdown",
   "id": "04ac40f0",
   "metadata": {},
   "source": [
    "Note: The reasons for can't afford could also be due to their parents occupation/income. \n",
    "\n",
    "Hence we will continue to investigate this trend by joining the details dataset which contains the occupation"
   ]
  },
  {
   "cell_type": "markdown",
   "id": "336e2716",
   "metadata": {},
   "source": [
    "# Analysing leads_reasons_for_no_interest dataset by joining leads_basic_details dataset"
   ]
  },
  {
   "cell_type": "code",
   "execution_count": 125,
   "id": "abc60d29",
   "metadata": {},
   "outputs": [
    {
     "data": {
      "text/html": [
       "<div>\n",
       "<style scoped>\n",
       "    .dataframe tbody tr th:only-of-type {\n",
       "        vertical-align: middle;\n",
       "    }\n",
       "\n",
       "    .dataframe tbody tr th {\n",
       "        vertical-align: top;\n",
       "    }\n",
       "\n",
       "    .dataframe thead th {\n",
       "        text-align: right;\n",
       "    }\n",
       "</style>\n",
       "<table border=\"1\" class=\"dataframe\">\n",
       "  <thead>\n",
       "    <tr style=\"text-align: right;\">\n",
       "      <th></th>\n",
       "      <th>lead_id</th>\n",
       "      <th>reasons_for_not_interested_in_demo</th>\n",
       "      <th>reasons_for_not_interested_to_consider</th>\n",
       "      <th>reasons_for_not_interested_to_convert</th>\n",
       "      <th>age</th>\n",
       "      <th>gender</th>\n",
       "      <th>current_city</th>\n",
       "      <th>current_education</th>\n",
       "      <th>parent_occupation</th>\n",
       "      <th>lead_gen_source</th>\n",
       "    </tr>\n",
       "  </thead>\n",
       "  <tbody>\n",
       "    <tr>\n",
       "      <th>0</th>\n",
       "      <td>USR1001</td>\n",
       "      <td>No time for student</td>\n",
       "      <td>NaN</td>\n",
       "      <td>NaN</td>\n",
       "      <td>16</td>\n",
       "      <td>FEMALE</td>\n",
       "      <td>Hyderabad</td>\n",
       "      <td>Intermediate</td>\n",
       "      <td>Private Employee</td>\n",
       "      <td>social_media</td>\n",
       "    </tr>\n",
       "    <tr>\n",
       "      <th>1</th>\n",
       "      <td>USR1003</td>\n",
       "      <td>NaN</td>\n",
       "      <td>No time for student</td>\n",
       "      <td>NaN</td>\n",
       "      <td>20</td>\n",
       "      <td>FEMALE</td>\n",
       "      <td>Visakhapatnam</td>\n",
       "      <td>B.Tech</td>\n",
       "      <td>Lawyer</td>\n",
       "      <td>user_referrals</td>\n",
       "    </tr>\n",
       "    <tr>\n",
       "      <th>2</th>\n",
       "      <td>USR1004</td>\n",
       "      <td>NaN</td>\n",
       "      <td>Wants offline classes</td>\n",
       "      <td>NaN</td>\n",
       "      <td>16</td>\n",
       "      <td>MALE</td>\n",
       "      <td>Mumbai</td>\n",
       "      <td>Intermediate</td>\n",
       "      <td>IT Employee</td>\n",
       "      <td>user_referrals</td>\n",
       "    </tr>\n",
       "    <tr>\n",
       "      <th>3</th>\n",
       "      <td>USR1005</td>\n",
       "      <td>NaN</td>\n",
       "      <td>Can't afford</td>\n",
       "      <td>NaN</td>\n",
       "      <td>16</td>\n",
       "      <td>MALE</td>\n",
       "      <td>Chennai</td>\n",
       "      <td>Intermediate</td>\n",
       "      <td>Government Employee</td>\n",
       "      <td>user_referrals</td>\n",
       "    </tr>\n",
       "    <tr>\n",
       "      <th>4</th>\n",
       "      <td>USR1006</td>\n",
       "      <td>NaN</td>\n",
       "      <td>Student not interested in domain</td>\n",
       "      <td>NaN</td>\n",
       "      <td>16</td>\n",
       "      <td>MALE</td>\n",
       "      <td>Kochi</td>\n",
       "      <td>Intermediate</td>\n",
       "      <td>Doctor</td>\n",
       "      <td>user_referrals</td>\n",
       "    </tr>\n",
       "  </tbody>\n",
       "</table>\n",
       "</div>"
      ],
      "text/plain": [
       "   lead_id reasons_for_not_interested_in_demo  \\\n",
       "0  USR1001                No time for student   \n",
       "1  USR1003                                NaN   \n",
       "2  USR1004                                NaN   \n",
       "3  USR1005                                NaN   \n",
       "4  USR1006                                NaN   \n",
       "\n",
       "  reasons_for_not_interested_to_consider  \\\n",
       "0                                    NaN   \n",
       "1                    No time for student   \n",
       "2                  Wants offline classes   \n",
       "3                           Can't afford   \n",
       "4       Student not interested in domain   \n",
       "\n",
       "  reasons_for_not_interested_to_convert  age  gender   current_city  \\\n",
       "0                                   NaN   16  FEMALE      Hyderabad   \n",
       "1                                   NaN   20  FEMALE  Visakhapatnam   \n",
       "2                                   NaN   16    MALE         Mumbai   \n",
       "3                                   NaN   16    MALE        Chennai   \n",
       "4                                   NaN   16    MALE          Kochi   \n",
       "\n",
       "  current_education    parent_occupation lead_gen_source  \n",
       "0      Intermediate     Private Employee    social_media  \n",
       "1            B.Tech               Lawyer  user_referrals  \n",
       "2      Intermediate          IT Employee  user_referrals  \n",
       "3      Intermediate  Government Employee  user_referrals  \n",
       "4      Intermediate               Doctor  user_referrals  "
      ]
     },
     "execution_count": 125,
     "metadata": {},
     "output_type": "execute_result"
    }
   ],
   "source": [
    "leads_reason_occupation_merged = pd.merge(leads_reasons_for_no_interest_cleaned,leads_basic_details_cleaned, on='lead_id' )\n",
    "leads_reason_occupation_merged.head()"
   ]
  },
  {
   "cell_type": "code",
   "execution_count": 126,
   "id": "d9aaba80",
   "metadata": {},
   "outputs": [
    {
     "name": "stdout",
     "output_type": "stream",
     "text": [
      "   reasons_for_not_interested_in_demo    parent_occupation  count\n",
      "0                        Can't afford             Business     11\n",
      "1                        Can't afford               Doctor      1\n",
      "2                        Can't afford  Government Employee     17\n",
      "3                        Can't afford          IT Employee      9\n",
      "4                        Can't afford               Lawyer      8\n",
      "5                        Can't afford     Private Employee      2\n",
      "6                 No time for student             Business      4\n",
      "7                 No time for student  Government Employee      9\n",
      "8                 No time for student          IT Employee      7\n",
      "9                 No time for student               Lawyer      1\n",
      "10                No time for student     Private Employee      3\n",
      "11                No time for student    Professor/Faculty      2\n",
      "12   Student not interested in domain             Business      5\n",
      "13   Student not interested in domain               Doctor      2\n",
      "14   Student not interested in domain  Government Employee      9\n",
      "15   Student not interested in domain          IT Employee      6\n",
      "16   Student not interested in domain               Lawyer      3\n",
      "17   Student not interested in domain     Private Employee      2\n",
      "18   Student not interested in domain    Professor/Faculty      1\n",
      "19              Wants offline classes             Business     11\n",
      "20              Wants offline classes               Doctor      6\n",
      "21              Wants offline classes  Government Employee     23\n",
      "22              Wants offline classes          IT Employee     10\n",
      "23              Wants offline classes               Lawyer      5\n",
      "24              Wants offline classes     Private Employee      1\n",
      "25            Will join in final year             Business      2\n",
      "26            Will join in final year  Government Employee      2\n",
      "27            Will join in final year               Lawyer      1\n"
     ]
    }
   ],
   "source": [
    "leads_reason_occupation_breakdown1 = pysql(\"SELECT reasons_for_not_interested_in_demo, parent_occupation, count(parent_occupation) as count FROM leads_reason_occupation_merged WHERE reasons_for_not_interested_in_demo IS NOT NULL GROUP BY reasons_for_not_interested_in_demo, parent_occupation \")\n",
    "print(leads_reason_occupation_breakdown1)"
   ]
  },
  {
   "cell_type": "code",
   "execution_count": 127,
   "id": "90e2e7d3",
   "metadata": {},
   "outputs": [
    {
     "name": "stdout",
     "output_type": "stream",
     "text": [
      "   reasons_for_not_interested_to_consider    parent_occupation  count\n",
      "0                            Can't afford             Business      6\n",
      "1                            Can't afford  Government Employee     17\n",
      "2                            Can't afford          IT Employee      4\n",
      "3                            Can't afford               Lawyer      4\n",
      "4                     No time for student             Business      2\n",
      "5                     No time for student  Government Employee      2\n",
      "6                     No time for student          IT Employee      1\n",
      "7                     No time for student               Lawyer      1\n",
      "8        Student not interested in domain               Doctor      1\n",
      "9        Student not interested in domain  Government Employee      5\n",
      "10       Student not interested in domain          IT Employee      5\n",
      "11       Student not interested in domain               Lawyer      2\n",
      "12       Student not interested in domain    Professor/Faculty      1\n",
      "13                  Wants offline classes             Business      1\n",
      "14                  Wants offline classes               Doctor      1\n",
      "15                  Wants offline classes  Government Employee     11\n",
      "16                  Wants offline classes          IT Employee      8\n",
      "17                  Wants offline classes               Lawyer      4\n",
      "18                Will join in final year             Business      1\n",
      "19                Will join in final year          IT Employee      1\n"
     ]
    }
   ],
   "source": [
    "leads_reason_occupation_breakdown2 = pysql(\"SELECT reasons_for_not_interested_to_consider, parent_occupation, count(parent_occupation) as count FROM leads_reason_occupation_merged WHERE reasons_for_not_interested_to_consider IS NOT NULL GROUP BY reasons_for_not_interested_to_consider, parent_occupation \")\n",
    "print(leads_reason_occupation_breakdown2)"
   ]
  },
  {
   "cell_type": "code",
   "execution_count": 128,
   "id": "db5b06cb",
   "metadata": {},
   "outputs": [
    {
     "name": "stdout",
     "output_type": "stream",
     "text": [
      "   reasons_for_not_interested_to_convert    parent_occupation  count\n",
      "0                           Can't afford             Business      6\n",
      "1                           Can't afford  Government Employee      4\n",
      "2                           Can't afford          IT Employee      6\n",
      "3                           Can't afford               Lawyer      2\n",
      "4                           Can't afford     Private Employee      1\n",
      "5                    No time for student             Business      1\n",
      "6                    No time for student  Government Employee      2\n",
      "7                    No time for student               Lawyer      2\n",
      "8       Student not interested in domain             Business      3\n",
      "9       Student not interested in domain  Government Employee      3\n",
      "10      Student not interested in domain          IT Employee      1\n",
      "11      Student not interested in domain               Lawyer      1\n",
      "12      Student not interested in domain     Private Employee      1\n",
      "13      Student not interested in domain    Professor/Faculty      1\n",
      "14                 Wants offline classes             Business      4\n",
      "15                 Wants offline classes  Government Employee      2\n",
      "16                 Wants offline classes          IT Employee      3\n",
      "17                 Wants offline classes    Professor/Faculty      1\n",
      "18               Will join in final year             Business      1\n",
      "19               Will join in final year  Government Employee      3\n",
      "20               Will join in final year     Private Employee      1\n",
      "21               Will join in final year    Professor/Faculty      2\n"
     ]
    }
   ],
   "source": [
    "leads_reason_occupation_breakdown3 = pysql(\"SELECT reasons_for_not_interested_to_convert, parent_occupation, count(parent_occupation) as count FROM leads_reason_occupation_merged WHERE reasons_for_not_interested_to_convert IS NOT NULL GROUP BY reasons_for_not_interested_to_convert, parent_occupation \")\n",
    "print(leads_reason_occupation_breakdown3)"
   ]
  },
  {
   "cell_type": "markdown",
   "id": "1290454c",
   "metadata": {},
   "source": [
    "# Findings of leads_reasons_for_no_interest\n",
    "\n",
    "The top 3 reasons across the import stages are Can't afford, Wants offline classes and Students not interested in domain (in that order).\n",
    "\n",
    "The top 3 parent occupation which result in reason 'Can't afford' are mainly Government Employee, Business and IT Employee (in that order)\n"
   ]
  },
  {
   "cell_type": "markdown",
   "id": "6b71c3d7",
   "metadata": {},
   "source": [
    "# Analysing sales_managers_assigned_leads_details dataset"
   ]
  },
  {
   "cell_type": "code",
   "execution_count": 129,
   "id": "ecb1144d",
   "metadata": {},
   "outputs": [
    {
     "data": {
      "text/html": [
       "<div>\n",
       "<style scoped>\n",
       "    .dataframe tbody tr th:only-of-type {\n",
       "        vertical-align: middle;\n",
       "    }\n",
       "\n",
       "    .dataframe tbody tr th {\n",
       "        vertical-align: top;\n",
       "    }\n",
       "\n",
       "    .dataframe thead th {\n",
       "        text-align: right;\n",
       "    }\n",
       "</style>\n",
       "<table border=\"1\" class=\"dataframe\">\n",
       "  <thead>\n",
       "    <tr style=\"text-align: right;\">\n",
       "      <th></th>\n",
       "      <th>snr_sm_id</th>\n",
       "      <th>jnr_sm_id</th>\n",
       "      <th>assigned_date</th>\n",
       "      <th>cycle</th>\n",
       "      <th>lead_id</th>\n",
       "    </tr>\n",
       "  </thead>\n",
       "  <tbody>\n",
       "    <tr>\n",
       "      <th>0</th>\n",
       "      <td>SNR501MG</td>\n",
       "      <td>JNR1001MG</td>\n",
       "      <td>1/1/2022</td>\n",
       "      <td>1</td>\n",
       "      <td>USR1001</td>\n",
       "    </tr>\n",
       "    <tr>\n",
       "      <th>1</th>\n",
       "      <td>SNR501MG</td>\n",
       "      <td>JNR1001MG</td>\n",
       "      <td>1/1/2022</td>\n",
       "      <td>1</td>\n",
       "      <td>USR1002</td>\n",
       "    </tr>\n",
       "    <tr>\n",
       "      <th>2</th>\n",
       "      <td>SNR501MG</td>\n",
       "      <td>JNR1001MG</td>\n",
       "      <td>1/1/2022</td>\n",
       "      <td>1</td>\n",
       "      <td>USR1003</td>\n",
       "    </tr>\n",
       "    <tr>\n",
       "      <th>3</th>\n",
       "      <td>SNR501MG</td>\n",
       "      <td>JNR1001MG</td>\n",
       "      <td>1/1/2022</td>\n",
       "      <td>1</td>\n",
       "      <td>USR1004</td>\n",
       "    </tr>\n",
       "    <tr>\n",
       "      <th>4</th>\n",
       "      <td>SNR501MG</td>\n",
       "      <td>JNR1001MG</td>\n",
       "      <td>1/1/2022</td>\n",
       "      <td>1</td>\n",
       "      <td>USR1005</td>\n",
       "    </tr>\n",
       "  </tbody>\n",
       "</table>\n",
       "</div>"
      ],
      "text/plain": [
       "  snr_sm_id  jnr_sm_id assigned_date  cycle  lead_id\n",
       "0  SNR501MG  JNR1001MG      1/1/2022      1  USR1001\n",
       "1  SNR501MG  JNR1001MG      1/1/2022      1  USR1002\n",
       "2  SNR501MG  JNR1001MG      1/1/2022      1  USR1003\n",
       "3  SNR501MG  JNR1001MG      1/1/2022      1  USR1004\n",
       "4  SNR501MG  JNR1001MG      1/1/2022      1  USR1005"
      ]
     },
     "execution_count": 129,
     "metadata": {},
     "output_type": "execute_result"
    }
   ],
   "source": [
    "sales_managers_assigned_leads_details_cleaned.head()"
   ]
  },
  {
   "cell_type": "code",
   "execution_count": 131,
   "id": "6c635181",
   "metadata": {},
   "outputs": [
    {
     "name": "stdout",
     "output_type": "stream",
     "text": [
      "   snr_sm_id  jnr_sm_id  count_of_leads\n",
      "0   SNR501MG  JNR1001MG              33\n",
      "1   SNR501MG  JNR1002MG              20\n",
      "2   SNR501MG  JNR1003MG              20\n",
      "3   SNR501MG  JNR1004MG              20\n",
      "4   SNR502MG  JNR1005MG              20\n",
      "5   SNR502MG  JNR1006MG              20\n",
      "6   SNR502MG  JNR1007MG              20\n",
      "7   SNR502MG  JNR1008MG              20\n",
      "8   SNR503MG  JNR1009MG              20\n",
      "9   SNR503MG  JNR1010MG              21\n",
      "10  SNR503MG  JNR1011MG              26\n",
      "11  SNR503MG  JNR1012MG              31\n",
      "12  SNR504MG  JNR1013MG              20\n",
      "13  SNR504MG  JNR1014MG              20\n",
      "14  SNR504MG  JNR1015MG              21\n",
      "15  SNR504MG  JNR1016MG              26\n"
     ]
    }
   ],
   "source": [
    "sales_managers_assigned_leads_details_breakdown = pysql(\"SELECT snr_sm_id,jnr_sm_id,COUNT(lead_id) as count_of_leads FROM sales_managers_assigned_leads_details_cleaned GROUP BY snr_sm_id,jnr_sm_id\")\n",
    "print(sales_managers_assigned_leads_details_breakdown)"
   ]
  },
  {
   "cell_type": "code",
   "execution_count": 136,
   "id": "86715c74",
   "metadata": {},
   "outputs": [
    {
     "name": "stdout",
     "output_type": "stream",
     "text": [
      "      jnr_sm_id  lead_id lead_stage call_done_date   call_status  \\\n",
      "0     JNR1001MG  USR1001       lead       1/2/2022    successful   \n",
      "1     JNR1001MG  USR1001       lead       1/2/2022    successful   \n",
      "2     JNR1001MG  USR1002       lead       1/3/2022    successful   \n",
      "3     JNR1001MG  USR1002       lead       1/4/2022    successful   \n",
      "4     JNR1001MG  USR1002  awareness       1/5/2022    successful   \n",
      "...         ...      ...        ...            ...           ...   \n",
      "2176  JNR1001MG  USR1356       lead      2/21/2022  unsuccessful   \n",
      "2177  JNR1001MG  USR1357       lead       1/8/2022  unsuccessful   \n",
      "2178  JNR1001MG  USR1358       lead      1/12/2022  unsuccessful   \n",
      "2179  JNR1001MG  USR1359       lead      1/22/2022  unsuccessful   \n",
      "2180  JNR1001MG  USR1360       lead      2/21/2022  unsuccessful   \n",
      "\n",
      "             call_reason snr_sm_id assigned_date  cycle  \n",
      "0      lead_introduction  SNR501MG      1/1/2022      1  \n",
      "1          demo_schedule  SNR501MG      1/1/2022      1  \n",
      "2      lead_introduction  SNR501MG      1/1/2022      1  \n",
      "3          demo_schedule  SNR501MG      1/1/2022      1  \n",
      "4     post_demo_followup  SNR501MG      1/1/2022      1  \n",
      "...                  ...       ...           ...    ...  \n",
      "2176   lead_introduction  SNR501MG     2/19/2022      4  \n",
      "2177   lead_introduction  SNR501MG      1/1/2022      1  \n",
      "2178   lead_introduction  SNR501MG      1/8/2022      2  \n",
      "2179   lead_introduction  SNR501MG     1/15/2022      3  \n",
      "2180   lead_introduction  SNR501MG     2/19/2022      4  \n",
      "\n",
      "[2181 rows x 9 columns]\n"
     ]
    }
   ],
   "source": [
    "managers_assigned_interaction_details_merged= pd.merge(leads_interaction_details_cleaned,sales_managers_assigned_leads_details_cleaned, on=['jnr_sm_id','lead_id'])\n",
    "print(managers_assigned_interaction_details_merged)"
   ]
  },
  {
   "cell_type": "code",
   "execution_count": 142,
   "id": "abae42b0",
   "metadata": {},
   "outputs": [
    {
     "name": "stdout",
     "output_type": "stream",
     "text": [
      "   snr_sm_id  jnr_sm_id  count_of_successfully_converted_leads\n",
      "0   SNR501MG  JNR1001MG                                      6\n",
      "1   SNR501MG  JNR1002MG                                      7\n",
      "2   SNR501MG  JNR1003MG                                      6\n",
      "3   SNR501MG  JNR1004MG                                      4\n",
      "4   SNR502MG  JNR1005MG                                      2\n",
      "5   SNR502MG  JNR1006MG                                      4\n",
      "6   SNR502MG  JNR1007MG                                      2\n",
      "7   SNR502MG  JNR1008MG                                      4\n",
      "8   SNR503MG  JNR1009MG                                      2\n",
      "9   SNR503MG  JNR1010MG                                      4\n",
      "10  SNR503MG  JNR1011MG                                      2\n",
      "11  SNR503MG  JNR1012MG                                      4\n",
      "12  SNR504MG  JNR1013MG                                      2\n",
      "13  SNR504MG  JNR1014MG                                      4\n",
      "14  SNR504MG  JNR1015MG                                      3\n",
      "15  SNR504MG  JNR1016MG                                      8\n"
     ]
    }
   ],
   "source": [
    "managers_assigned_interaction_details_breakdown = pysql('SELECT snr_sm_id,jnr_sm_id,COUNT(lead_id) as count_of_successfully_converted_leads FROM managers_assigned_interaction_details_merged WHERE call_status=\"successful\" and call_reason=\"successful_conversion\" GROUP BY snr_sm_id,jnr_sm_id')\n",
    "print(managers_assigned_interaction_details_breakdown)"
   ]
  },
  {
   "cell_type": "markdown",
   "id": "404b6564",
   "metadata": {},
   "source": [
    "# Findings of sales_managers_assigned_leads_details\n",
    "\n",
    "JNR1001MG junior manager has the most leads(33), and hence the SNR501MG has the most number of leads(93) spread across the junior managers. \n",
    "\n",
    "JNR1016MG junior manager has the most successful conversions (8)"
   ]
  },
  {
   "cell_type": "markdown",
   "id": "29c862e7",
   "metadata": {},
   "source": [
    "# Final Conclusion and Suggestions\n",
    "\n",
    "On the business side of things:\n",
    "1. Female leads are more interested then male but not much disparity. So focus on both genders.\n",
    "2. Focus more on the top 3 city locations which is Hyderabad, Vishakapatnam and Kochi. These locations also have most English and Telugu speakers which are the 2 most prominent languages to engage with leads and show them materials in these languages\n",
    "3. Spend more on Social Media, and Website advertising. The user base is already healthy as user referrals are very high. \n",
    "4. Come out with dicount for leads whose parents are associated with Government jobs. \n",
    "5. Broaden the domain knowledge to fit more leads and if possible, think of offline mode of knowledge transfer. \n",
    "\n",
    "On the operations/sales side of things:\n",
    "1. Combine the best junior managers who had the highest converted % under the top senior managers. \n",
    "2. Rotate junior managers not meeting certain % goal "
   ]
  }
 ],
 "metadata": {
  "kernelspec": {
   "display_name": "Python 3 (ipykernel)",
   "language": "python",
   "name": "python3"
  },
  "language_info": {
   "codemirror_mode": {
    "name": "ipython",
    "version": 3
   },
   "file_extension": ".py",
   "mimetype": "text/x-python",
   "name": "python",
   "nbconvert_exporter": "python",
   "pygments_lexer": "ipython3",
   "version": "3.9.12"
  }
 },
 "nbformat": 4,
 "nbformat_minor": 5
}
